{
 "cells": [
  {
   "cell_type": "code",
   "execution_count": 2,
   "metadata": {},
   "outputs": [
    {
     "name": "stdout",
     "output_type": "stream",
     "text": [
      "['juan', 'pedro', 'luis', 'maria']\n"
     ]
    }
   ],
   "source": [
    "# si queremos añadir un elemento al final de una lista podemos\n",
    "# usar el metodo append\n",
    "Listaa = [\"juan\", \"pedro\", \"luis\"]\n",
    "Listaa.append(\"maria\")\n",
    "print(Listaa)\n",
    "\n",
    "# esta funcion, si modificamos la lista original, no devuelve nada"
   ]
  },
  {
   "cell_type": "code",
   "execution_count": 6,
   "metadata": {},
   "outputs": [
    {
     "name": "stdout",
     "output_type": "stream",
     "text": [
      "[0, 2, 4, 6, 8, 10, 12, 14, 16, 18]\n"
     ]
    }
   ],
   "source": [
    "# si queremos crear una lista desde cero \n",
    "\n",
    "list_vacia = []\n",
    "\n",
    "for i in range(20):\n",
    "    if i % 2 == 0:\n",
    "        list_vacia.append(i)\n",
    "\n",
    "print(list_vacia)\n",
    "\n",
    "\n"
   ]
  },
  {
   "cell_type": "code",
   "execution_count": 10,
   "metadata": {},
   "outputs": [
    {
     "name": "stdout",
     "output_type": "stream",
     "text": [
      "['alex', 'juan', 'pedro', 'luis']\n"
     ]
    }
   ],
   "source": [
    "# tambien podemos usar el metodo insert para añadir un elemento en una posicion especifica\n",
    "Listaa = [\"juan\", \"pedro\", \"luis\"]\n",
    "Listaa.insert(0,\"alex\")\n",
    "print(Listaa)"
   ]
  },
  {
   "cell_type": "code",
   "execution_count": 15,
   "metadata": {},
   "outputs": [
    {
     "name": "stdout",
     "output_type": "stream",
     "text": [
      "['toyota', 'nissan', 'honda', 'ford', 'toyota', 'nissan', 'honda', 'ford', 'toyota', 'nissan', 'honda', 'ford']\n"
     ]
    }
   ],
   "source": [
    "marca_carros = [\"toyota\", \"nissan\", \"honda\", \"ford\"]\n",
    "repetido = marca_carros * 3\n",
    "\n",
    "print(repetido)"
   ]
  },
  {
   "cell_type": "code",
   "execution_count": 16,
   "metadata": {},
   "outputs": [
    {
     "name": "stdout",
     "output_type": "stream",
     "text": [
      "['perro', 'gato', 'conejo', 'aguila', 'paloma', 'loro']\n"
     ]
    }
   ],
   "source": [
    "# podemos tambien combinar listas con el operador suma\n",
    "\n",
    "aniamles = [\"perro\", \"gato\", \"conejo\"]\n",
    "aves = [\"aguila\", \"paloma\", \"loro\"]\n",
    "\n",
    "aniamles_aves = aniamles + aves \n",
    "\n",
    "print(aniamles_aves)"
   ]
  },
  {
   "cell_type": "code",
   "execution_count": 18,
   "metadata": {},
   "outputs": [
    {
     "name": "stdout",
     "output_type": "stream",
     "text": [
      "['manzana', 'pera', 'platano', 'arroz', 'papa', 'chorizo']\n"
     ]
    }
   ],
   "source": [
    "# modificando la lista horiginal, mediante la funcion extend\n",
    "\n",
    "Frutas = [\"manzana\", \"pera\", \"platano\"]\n",
    "comida = [\"arroz\",\"papa\",\"chorizo\"]\n",
    "\n",
    "Frutas.extend(comida)\n",
    "\n",
    "print(Frutas)"
   ]
  },
  {
   "cell_type": "code",
   "execution_count": 20,
   "metadata": {},
   "outputs": [
    {
     "name": "stdout",
     "output_type": "stream",
     "text": [
      "['pan', 'leche', 'huevos', 'reloj', 'jamon']\n"
     ]
    }
   ],
   "source": [
    "# Modificar un elemento o varios de una lista:\n",
    "\n",
    "compras = [\"pan\", \"leche\", \"huevos\", \"queso\", \"jamon\"]\n",
    "# print(compras[2])\n",
    "\n",
    "compras[3] = \"reloj\"\n",
    "\n",
    "print(compras)"
   ]
  },
  {
   "cell_type": "code",
   "execution_count": 22,
   "metadata": {},
   "outputs": [
    {
     "name": "stdout",
     "output_type": "stream",
     "text": [
      "['pan', 'papel', 'lapiz', 'borrador', 'queso', 'jamon']\n"
     ]
    }
   ],
   "source": [
    "compras = [\"pan\", \"leche\", \"huevos\", \"queso\", \"jamon\"]\n",
    "\n",
    "compras[1:3] = [\"papel\", \"lapiz\", \"borrador\"]\n",
    "\n",
    "print(compras)"
   ]
  },
  {
   "cell_type": "code",
   "execution_count": 25,
   "metadata": {},
   "outputs": [
    {
     "name": "stdout",
     "output_type": "stream",
     "text": [
      "['casa1', 'casa2', 'casa4', 'casa5']\n",
      "['gato', 'conejo', 'perro', 'gato', 'conejo']\n"
     ]
    }
   ],
   "source": [
    "# Borrar    elementos de una lista\n",
    "\n",
    "lista_casas = [\"casa1\", \"casa2\", \"casa3\", \"casa4\", \"casa5\"]\n",
    "\n",
    "# por el indice mediante la función del():\n",
    "\n",
    "del(lista_casas[2])\n",
    "\n",
    "print(lista_casas)\n",
    "\n",
    "# por el valor mediante la función remove():\n",
    "\n",
    "nombre_animales = [\"perro\", \"gato\", \"conejo\", \"perro\", \"gato\", \"conejo\"]\n",
    "nombre_animales.remove(\"perro\")\n",
    "print(nombre_animales)"
   ]
  },
  {
   "cell_type": "code",
   "execution_count": 26,
   "metadata": {},
   "outputs": [
    {
     "name": "stdout",
     "output_type": "stream",
     "text": [
      "[]\n"
     ]
    }
   ],
   "source": [
    "# para borrar una lista completa podemos usar la funcion clear\n",
    "\n",
    "caballos = [\"caballo1\", \"caballo2\", \"caballo3\", \"caballo4\", \"caballo5\"]\n",
    "\n",
    "caballos.clear()\n",
    "\n",
    "print(caballos)"
   ]
  },
  {
   "cell_type": "code",
   "execution_count": 32,
   "metadata": {},
   "outputs": [
    {
     "data": {
      "text/plain": [
       "3"
      ]
     },
     "execution_count": 32,
     "metadata": {},
     "output_type": "execute_result"
    }
   ],
   "source": [
    "# por ejemplo si queremos saber el indice de un elemento en una lista podemos usar la funcion index\n",
    "\n",
    "lista_larga = [\"a\", \"b\", \"c\", \"d\", \"e\", \"f\", \"g\", \"h\", \"i\", \"j\"]\n",
    "\n",
    "lista_larga.index(\"g\")\n",
    "\n",
    "# si queremos saber cuantas veces se repite un elemento en una lista podemos usar la funcion count\n",
    "\n",
    "lista_mas_larga = [\"a\", \"b\", \"c\", \"d\", \"e\", \"f\", \"g\", \"h\", \"i\", \"j\", \"a\", \"b\", \"c\", \"d\", \"e\", \"f\", \"g\", \"h\", \"i\", \"j\",\"a\"]\n",
    "\n",
    "lista_mas_larga.count(\"a\")"
   ]
  },
  {
   "cell_type": "code",
   "execution_count": 33,
   "metadata": {},
   "outputs": [
    {
     "data": {
      "text/plain": [
       "True"
      ]
     },
     "execution_count": 33,
     "metadata": {},
     "output_type": "execute_result"
    }
   ],
   "source": [
    "# pertenencia de un elemento en una lista\n",
    "# si queremos comparar si un elemento esta en una lista podemos usar el operador in\n",
    "\n",
    "shopping = [\"pan\", \"leche\", \"huevos\", \"queso\", \"jamon\"]\n",
    "\n",
    "'pan' in shopping"
   ]
  },
  {
   "cell_type": "code",
   "execution_count": 3,
   "metadata": {},
   "outputs": [
    {
     "data": {
      "text/plain": [
       "['huawei', 'iphone', 'motorola', 'samsung']"
      ]
     },
     "execution_count": 3,
     "metadata": {},
     "output_type": "execute_result"
    }
   ],
   "source": [
    "# convertir una lsita a cadena de texto\n",
    "\n",
    "frutas = [\"manzana\", \"pera\", \"platano\"]\n",
    "','.join(frutas)\n",
    "\n",
    "# ordenar una lista\n",
    "\n",
    "# tenemos dos formar una que me modifica la lista original y otra que me conserva la lista original\n",
    "\n",
    "# la primera forma es mediante el metodo sorted\n",
    "\n",
    "celulares = [\"samsung\", \"iphone\", \"huawei\", \"motorola\"]\n",
    "sorted(celulares)\n",
    "\n",
    "\n",
    "\n",
    "########################3\n",
    "\n",
    "\n",
    "celulares = [\"samsung\", \"iphone\", \"huawei\", \"motorola\"]\n",
    "celulares.sort()\n",
    "print(celulares)\n"
   ]
  },
  {
   "cell_type": "code",
   "execution_count": 5,
   "metadata": {},
   "outputs": [
    {
     "name": "stdout",
     "output_type": "stream",
     "text": [
      "samsung\n",
      "iphone\n",
      "huawei\n",
      "motorola\n"
     ]
    }
   ],
   "source": [
    "# tambien podemos iterar sobre una lista y ordenarla\n",
    "\n",
    "celulares = [\"samsung\", \"iphone\", \"huawei\", \"motorola\"]\n",
    "for product in celulares:\n",
    "    print(product)\n"
   ]
  },
  {
   "cell_type": "code",
   "execution_count": 6,
   "metadata": {},
   "outputs": [
    {
     "name": "stdout",
     "output_type": "stream",
     "text": [
      "0 pan\n",
      "1 leche\n",
      "2 huevos\n",
      "3 queso\n",
      "4 jamon\n"
     ]
    }
   ],
   "source": [
    "# iterar sobre unna lista utilizando numeraci´´on\n",
    "\n",
    "shopping = [\"pan\", \"leche\", \"huevos\", \"queso\", \"jamon\"]\n",
    "for i, product in enumerate(shopping):\n",
    "    print(i, product)"
   ]
  },
  {
   "cell_type": "code",
   "execution_count": 9,
   "metadata": {},
   "outputs": [
    {
     "name": "stdout",
     "output_type": "stream",
     "text": [
      "toyota yamaha\n",
      "nissan suzuki\n",
      "honda kawasaki\n",
      "ford ducati\n"
     ]
    }
   ],
   "source": [
    "# iterar sobre multiples listas\n",
    "# en el caso de las listas no  tengan la misma longitud, se va a iterar hasta la longitud de la lista mas corta\n",
    "marca_carro = [\"toyota\", \"nissan\", \"honda\", \"ford\"]\n",
    "marca_moto = [\"yamaha\", \"suzuki\", \"kawasaki\", \"ducati\",\"harley\"]\n",
    "\n",
    "for product, detail in zip(marca_carro, marca_moto):\n",
    "    print(product, detail)"
   ]
  },
  {
   "cell_type": "code",
   "execution_count": 12,
   "metadata": {},
   "outputs": [
    {
     "name": "stdout",
     "output_type": "stream",
     "text": [
      "['casa', 'trabajo', 'cine', 'gimnasio']\n",
      "['casa', 'trabajo', 'parque', 'gimnasio']\n"
     ]
    }
   ],
   "source": [
    "# Se debe tener mucho cuidado cuando queremos trabajar con copias de listas, ya que si no se hace de la forma correcta, se pueden modificar la lista original.\n",
    "\n",
    "lugares = [\"casa\", \"trabajo\", \"parque\", \"gimnasio\"]\n",
    "lugares_copia = lugares\n",
    "lugares_copia[2] = \"cine\"\n",
    "print(lugares_copia)\n",
    "\n",
    "# en el caso anterior, la lista original tambien se modifico, para evitar esto, se debe hacer una copia de la lista de la siguiente forma:\n",
    "\n",
    "nuevos_lugares = [\"casa\", \"trabajo\", \"parque\", \"gimnasio\"]\n",
    "lugares_copia_new = nuevos_lugares.copy()\n",
    "lugares_copia_new[2] = \"cine\"\n",
    "print(nuevos_lugares)"
   ]
  },
  {
   "cell_type": "code",
   "execution_count": 17,
   "metadata": {},
   "outputs": [
    {
     "name": "stdout",
     "output_type": "stream",
     "text": [
      "1\n"
     ]
    }
   ],
   "source": [
    "# Funciones matematicas con listas\n",
    "\n",
    "numeros = [1, 2, 3, 4, 5, 6, 7, 8, 9, 10]\n",
    "suma = sum(numeros)\n",
    "mimimo = min(numeros)\n",
    "print(mimimo)"
   ]
  },
  {
   "cell_type": "code",
   "execution_count": 18,
   "metadata": {},
   "outputs": [
    {
     "name": "stdout",
     "output_type": "stream",
     "text": [
      "['casillas', ['pique', 'ramos', 'puyol', 'alba'], ['iniesta', 'xavi', 'busquets'], ['villa', 'torres', 'pedro']]\n"
     ]
    }
   ],
   "source": [
    "# como crear listas de listas\n",
    "# Las listas son extructuras de datos que pueden contener elementos heterogeneos, es decir, pueden contener cualquier tipo de dato, incluso otras listas.\n",
    "\n",
    "arquero = \"casillas\"\n",
    "defensa = [\"pique\", \"ramos\", \"puyol\", \"alba\"]\n",
    "medio_campo = [\"iniesta\", \"xavi\", \"busquets\"]\n",
    "delanteros = [\"villa\", \"torres\", \"pedro\"]\n",
    "\n",
    "# para juntar las listas anteriores en una unica lista, hacemos lo siguiente:\n",
    "\n",
    "equipo = [arquero, defensa, medio_campo, delanteros]\n",
    "print(equipo)"
   ]
  }
 ],
 "metadata": {
  "kernelspec": {
   "display_name": "Python 3",
   "language": "python",
   "name": "python3"
  },
  "language_info": {
   "codemirror_mode": {
    "name": "ipython",
    "version": 3
   },
   "file_extension": ".py",
   "mimetype": "text/x-python",
   "name": "python",
   "nbconvert_exporter": "python",
   "pygments_lexer": "ipython3",
   "version": "3.12.6"
  }
 },
 "nbformat": 4,
 "nbformat_minor": 2
}
