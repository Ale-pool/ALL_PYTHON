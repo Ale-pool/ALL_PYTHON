{
  "nbformat": 4,
  "nbformat_minor": 0,
  "metadata": {
    "colab": {
      "provenance": [],
      "authorship_tag": "ABX9TyOnRYiprH+4yRMOiHk8Kdx4",
      "include_colab_link": true
    },
    "kernelspec": {
      "name": "python3",
      "display_name": "Python 3"
    },
    "language_info": {
      "name": "python"
    }
  },
  "cells": [
    {
      "cell_type": "markdown",
      "metadata": {
        "id": "view-in-github",
        "colab_type": "text"
      },
      "source": [
        "<a href=\"https://colab.research.google.com/github/Ale-pool/ALL_PYTHON/blob/main/DICCIONARIOS%2B.ipynb\" target=\"_parent\"><img src=\"https://colab.research.google.com/assets/colab-badge.svg\" alt=\"Open In Colab\"/></a>"
      ]
    },
    {
      "cell_type": "markdown",
      "source": [
        "Un diccionario en el mundo real se puede entender como:\n",
        "Un objecto que contiene palabras y cada palabra tiene un significado.\n",
        "\n",
        "- Ahora en relación a concepto de programación, un diccionario se puede entender como un objecto indexado por claves( las palabras) que tienen asociados valores (significados)\n",
        "\n",
        "- Los diccionarios son una buena herramienta ya que permite mantener el orden en que se insertan los datos\n",
        "- son mutables: esto quiere decir que puedes añadir, modificar y eliminar sus elementos\n",
        "- las claves deben ser unicas, a menudo se usa los str como clave, pero en realidad podria ser cualquier tipo de dato inmutable; enteros, flotantes, etc.\n",
        "- tienen un acceso muy rapidos a sus elementos , debido a la forma en la que se estan implementando internamente\n",
        "- en otros lenguajes se conoce como arrays asociativos"
      ],
      "metadata": {
        "id": "Co0T-RBtEwJj"
      }
    },
    {
      "cell_type": "code",
      "source": [
        "# para crear un diccionario utilizamos las {}\n",
        "dict_vacio = {}\n",
        "\n",
        "# si queremos trabajar dicc con datos, lo podemos hacer de esta manera:\n",
        "Dic_completo = {\n",
        "    'bifonte': 'de dos frentes o de dos caras',\n",
        "    'anarcoide' : 'que tiende al desorden',\n",
        "    'montivio' : 'campesino de la costa'\n",
        "}\n",
        "\n",
        "# print(Dic_completo)\n",
        "\n",
        "pob_paises = {\n",
        "    'Argentina': 44938712,\n",
        "    'Brasil': 210147125,\n",
        "    'Colombia': 50372424\n",
        "}\n",
        "print(pob_paises)"
      ],
      "metadata": {
        "colab": {
          "base_uri": "https://localhost:8080/"
        },
        "id": "er-8q8U_M8tl",
        "outputId": "426674e2-daa2-49be-f451-6930604ac1ed"
      },
      "execution_count": null,
      "outputs": [
        {
          "output_type": "stream",
          "name": "stdout",
          "text": [
            "{'Argentina': 44938712, 'Brasil': 210147125, 'Colombia': 50372424}\n"
          ]
        }
      ]
    },
    {
      "cell_type": "code",
      "source": [
        "# Tambien se puede utilizar la función dict() para crear diccionarios y no tener que utilizar llaves y comillas\n",
        "\n",
        "person = dict(\n",
        "    nombre = 'Nicolas',\n",
        "    edad = 34,\n",
        "    pais = 'Argentina'\n",
        ")\n",
        "\n",
        "print(person)\n",
        "\n",
        "paises = dict(\n",
        "    colombia = 56000000,\n",
        "    Argentina = 4500000,\n",
        "    Ecuador = 489028,\n",
        "    Peru = 3789456\n",
        ")\n",
        "\n",
        "print(paises)\n",
        "\n",
        "casas = dict(\n",
        "    azul = 'santa marta',\n",
        "    verde = 'San lucas',\n",
        "    amarillo = 'santa Barbara'\n",
        ")\n",
        "\n",
        "print(casas)"
      ],
      "metadata": {
        "colab": {
          "base_uri": "https://localhost:8080/"
        },
        "id": "8zUS0yWHOLIS",
        "outputId": "c9231448-7a52-47b4-9e6e-71d5256c7098"
      },
      "execution_count": null,
      "outputs": [
        {
          "output_type": "stream",
          "name": "stdout",
          "text": [
            "{'nombre': 'Nicolas', 'edad': 34, 'pais': 'Argentina'}\n",
            "{'colombia': 56000000, 'Argentina': 4500000, 'Ecuador': 489028, 'Peru': 3789456}\n",
            "{'azul': 'santa marta', 'verde': 'San lucas', 'amarillo': 'santa Barbara'}\n"
          ]
        }
      ]
    },
    {
      "cell_type": "code",
      "source": [
        "# Operacione con diccionarios.\n",
        "# para obtener un elemento, hay que escribir una clave, (de la que queremos obtener un valor) en []\n",
        "\n",
        "animales = {\n",
        "    'perro' : 'guagua',\n",
        "    'gato' : 'miau',\n",
        "    'loro' : 'pio pio'\n",
        "}\n",
        "\n",
        "print(animales['gato'])\n",
        "\n",
        "# Tambien podemos usar la función get de este modo:\n",
        "\n",
        "animales = {\n",
        "    'perro' : 'guagua',\n",
        "    'gato' : 'miau',\n",
        "    'loro' : 'pio pio',\n",
        "    'vaca' : 'muuu',\n",
        "    'pato' : 'cuac cuac'\n",
        "}\n",
        "\n",
        "animales.get('vaca')\n",
        "\n",
        "#PRACTICA ----------------------------------\n",
        "# Si queremos basicamente traernos el valor de una materia de las dos formas\n",
        "# podemos hacerlo de este modo:\n",
        "\n",
        "materias = {\n",
        "    'Ciencias' : 'Juan carlos',\n",
        "    'Sociales' : 'Daniel verde',\n",
        "    'Matematicas' : 'Alejandra',\n",
        "    'Ingles' : 'sampayo'\n",
        "}\n",
        "\n",
        "print(materias['Matematicas'])\n",
        "print(f'El profesor de matematicas es {materias [\"Matematicas\"]}')\n"
      ],
      "metadata": {
        "colab": {
          "base_uri": "https://localhost:8080/"
        },
        "id": "pv5x23gsyp6t",
        "outputId": "ecf3fb2f-bc5d-4bb4-f125-df3aa3c5fc62"
      },
      "execution_count": null,
      "outputs": [
        {
          "output_type": "stream",
          "name": "stdout",
          "text": [
            "miau\n",
            "Alejandra\n",
            "El profesor de matematicas es Alejandra\n"
          ]
        }
      ]
    },
    {
      "cell_type": "code",
      "source": [
        "# para añadir o modificar un elemento, solo es necesario hacer referencia a la clave, y asignarle un valor:\n",
        "# _Si la clave ya existia en el diccionario, se remplaza el valor existente por el nuevo:\n",
        "# _si la clave es nueva, se añade al diccionario con su valor\n",
        "\n",
        "materias['Religion'] = 'Alexander villa'\n",
        "print(materias)\n",
        "materias['Matematicas'] = 'Nicolas'\n",
        "print(materias)"
      ],
      "metadata": {
        "colab": {
          "base_uri": "https://localhost:8080/"
        },
        "id": "JPF6Vr4m1jg-",
        "outputId": "e6d98340-3ac5-4cd1-d470-2cd43a76a3d5"
      },
      "execution_count": null,
      "outputs": [
        {
          "output_type": "stream",
          "name": "stdout",
          "text": [
            "{'Ciencias': 'Juan carlos', 'Sociales': 'Daniel verde', 'Matematicas': 'Alejandra', 'Ingles': 'sampayo', 'Religion': 'Alexander villa'}\n",
            "{'Ciencias': 'Juan carlos', 'Sociales': 'Daniel verde', 'Matematicas': 'Nicolas', 'Ingles': 'sampayo', 'Religion': 'Alexander villa'}\n"
          ]
        }
      ]
    },
    {
      "cell_type": "code",
      "source": [
        "# para verificar la pertencia de una clave, se puede utilizar el operador in:\n",
        "\n",
        "# 'Religion' in materias\n",
        "# 'Ciencias' in materias\n",
        "# 'perro' in animales\n",
        "'azul' in casas"
      ],
      "metadata": {
        "colab": {
          "base_uri": "https://localhost:8080/"
        },
        "id": "pt0Uwq4g2foo",
        "outputId": "77fe7cf4-f06f-4afb-bf68-0fe0f0a8743d"
      },
      "execution_count": null,
      "outputs": [
        {
          "output_type": "execute_result",
          "data": {
            "text/plain": [
              "True"
            ]
          },
          "metadata": {},
          "execution_count": 23
        }
      ]
    },
    {
      "cell_type": "code",
      "source": [
        "# para obtener todos los elementos keys()\n",
        "\n",
        "# casas.keys()\n",
        "clave = animales.keys()\n",
        "print(clave)\n",
        "\n",
        "# obtener todos los valores con la función values:\n",
        "valor = animales.values()\n",
        "print(valor)\n",
        "\n",
        "\n",
        "# para obtener todos los elementos de un diccionario\n",
        "\n",
        "all = animales.items()\n",
        "print(all)"
      ],
      "metadata": {
        "colab": {
          "base_uri": "https://localhost:8080/"
        },
        "id": "u5LJpkMq6ilA",
        "outputId": "0e54fb3d-16ce-4349-d8c0-4395bb4bfeb8"
      },
      "execution_count": null,
      "outputs": [
        {
          "output_type": "stream",
          "name": "stdout",
          "text": [
            "dict_keys(['perro', 'gato', 'loro', 'vaca', 'pato'])\n",
            "dict_values(['guagua', 'miau', 'pio pio', 'muuu', 'cuac cuac'])\n",
            "dict_items([('perro', 'guagua'), ('gato', 'miau'), ('loro', 'pio pio'), ('vaca', 'muuu'), ('pato', 'cuac cuac')])\n"
          ]
        }
      ]
    },
    {
      "cell_type": "code",
      "source": [
        "# para obtner la longitud de un diccionario\n",
        "\n",
        "frutas = {\n",
        "    'pera' : \"100\",\n",
        "    'manzana' : \"400\",\n",
        "    'uvas'  : \"200\",\n",
        "    'banana' : '300',\n",
        "    'naranja' : '500',\n",
        "    'fresa' : '1000'\n",
        "}\n",
        "\n",
        "len(frutas)"
      ],
      "metadata": {
        "colab": {
          "base_uri": "https://localhost:8080/"
        },
        "id": "DtL9wcut7d2H",
        "outputId": "2f9eccfe-370c-4272-95cf-a4e0d75591fc"
      },
      "execution_count": null,
      "outputs": [
        {
          "output_type": "execute_result",
          "data": {
            "text/plain": [
              "6"
            ]
          },
          "metadata": {},
          "execution_count": 36
        }
      ]
    },
    {
      "cell_type": "code",
      "source": [
        "# Podemos iterar sobre un diccionario:\n",
        "\n",
        "equipos_deportivos = {\n",
        "    'Barcelona' : 'España',\n",
        "    'Real madrid' : 'España',\n",
        "    'Borossia Dormund': 'Alemania',\n",
        "    'Bayern de Múnich' : 'Alemania',\n",
        "    'Manchester united' : 'Inglaterra',\n",
        "    'Manchester city' : 'Inglaterra'\n",
        "}\n",
        "\n",
        "# for equipos_deportivos in equipos_deportivos.keys():\n",
        "#   print(equipos_deportivos)\n",
        "\n",
        "# for equipos_deportivos in equipos_deportivos.values():\n",
        "#   print(equipos_deportivos)\n",
        "\n",
        "for equipos_deportivos in equipos_deportivos.items():\n",
        "  print(equipos_deportivos)"
      ],
      "metadata": {
        "colab": {
          "base_uri": "https://localhost:8080/"
        },
        "id": "KqMib6Sh88Ws",
        "outputId": "e3ae6297-4f7f-400b-859c-ac0f899234cf"
      },
      "execution_count": null,
      "outputs": [
        {
          "output_type": "stream",
          "name": "stdout",
          "text": [
            "('Barcelona', 'España')\n",
            "('Real madrid', 'España')\n",
            "('Borossia Dormund', 'Alemania')\n",
            "('Bayern de Múnich', 'Alemania')\n",
            "('Manchester united', 'Inglaterra')\n",
            "('Manchester city', 'Inglaterra')\n"
          ]
        }
      ]
    },
    {
      "cell_type": "code",
      "source": [
        "# for meaning in animales.values():\n",
        "#   print(meaning)\n",
        "\n",
        "\n",
        "# iterar sobre una clave valor:\n",
        "for animales, meaning in animales.items():\n",
        "  print(f'{animales} : {meaning}')\n",
        "\n"
      ],
      "metadata": {
        "colab": {
          "base_uri": "https://localhost:8080/"
        },
        "id": "JFjZj4cw9hxF",
        "outputId": "31ab3f17-e8ab-4a5e-b089-8a5600ff51cb"
      },
      "execution_count": null,
      "outputs": [
        {
          "output_type": "stream",
          "name": "stdout",
          "text": [
            "perro : guagua\n",
            "gato : miau\n",
            "loro : pio pio\n",
            "vaca : muuu\n",
            "pato : cuac cuac\n"
          ]
        }
      ]
    },
    {
      "cell_type": "code",
      "source": [
        "# Tambien podemos combinar dos o mas diccionarios:\n",
        "# - si una clave no exixte, se añande con su valor.\n",
        "# - si la clave ya existe, se añade con el valor del ultimo, diccionario de mezcla\n",
        "\n",
        "x= {'a': 1, 'b': 2}\n",
        "y = {'c': 3, 'd': 4}\n",
        "z = {**x, **y}\n",
        "print(z)\n",
        "\n",
        "##########3 otro ejemplo ############3\n",
        "\n",
        "\n",
        "comida = {'papas' : '5', 'Ensalada' : 'Brocolli', 'pollo' : 'frisby'}\n",
        "licores =  {'guaro' : '120', 'ron' : '222', 'whisky' : '1000'}\n",
        "fiesta =  {**comida,**licores}\n",
        "\n",
        "bebidas = {**comida, **licores}\n",
        "print(bebidas)\n",
        "#"
      ],
      "metadata": {
        "colab": {
          "base_uri": "https://localhost:8080/"
        },
        "id": "mExKVK6B-YVq",
        "outputId": "4385c6bd-a365-4392-ccce-2ec6d6b7bee1"
      },
      "execution_count": null,
      "outputs": [
        {
          "output_type": "stream",
          "name": "stdout",
          "text": [
            "{'a': 1, 'b': 2, 'c': 3, 'd': 4}\n",
            "{'papas': '5', 'Ensalada': 'Brocolli', 'pollo': 'frisby', 'guaro': '120', 'ron': '222', 'whisky': '1000'}\n"
          ]
        }
      ]
    },
    {
      "cell_type": "code",
      "source": [
        "# podemos combinar dos o mas diccionarios\n",
        "# Modificando los diccionarios originales, mediante la función update():\n",
        "\n",
        "aviones = {\n",
        "    'avion1': 'negro',\n",
        "    'avion2' : 'Blanco',\n",
        "    'avion3' : 'azul',\n",
        "}\n",
        "\n",
        "marca_tv = {\n",
        "    'samsung' : '100',\n",
        "    'sony' : '200'\n",
        "}\n",
        "\n",
        "aviones.update(marca_tv)\n",
        "print(aviones)\n"
      ],
      "metadata": {
        "colab": {
          "base_uri": "https://localhost:8080/"
        },
        "id": "fTmON4oP_6EI",
        "outputId": "eddf9e54-d99d-4cd4-da8f-ab55453c9867"
      },
      "execution_count": null,
      "outputs": [
        {
          "output_type": "stream",
          "name": "stdout",
          "text": [
            "{'avion1': 'negro', 'avion2': 'Blanco', 'avion3': 'azul', 'samsung': '100', 'sony': '200'}\n"
          ]
        }
      ]
    },
    {
      "cell_type": "code",
      "source": [
        "# podemos borrar los elementos de un diccionario segun su clave:\n",
        "\n",
        "nombres_sueldo = {\n",
        "    'Alex' : '22933131',\n",
        "    'Juana' : '21223224',\n",
        "    'luis' : '2131232121',\n",
        "    'David' : '2323244',\n",
        "    'jorge'  : '32234342'\n",
        "}\n",
        "\n",
        "del(nombres_sueldo['luis'])\n",
        "del(nombres_sueldo['Juana'])\n",
        "print(nombres_sueldo)\n",
        "\n"
      ],
      "metadata": {
        "colab": {
          "base_uri": "https://localhost:8080/"
        },
        "id": "du_D3uoX_X2v",
        "outputId": "1982443d-a0a3-484b-f463-eb21fcd7ce4a"
      },
      "execution_count": null,
      "outputs": [
        {
          "output_type": "stream",
          "name": "stdout",
          "text": [
            "{'Alex': '22933131', 'David': '2323244', 'jorge': '32234342'}\n"
          ]
        }
      ]
    },
    {
      "cell_type": "code",
      "source": [
        "# De igual manera podemos borrar los elementos segun su clavae(con extración):\n",
        "# mediante la función pop() podemos extraer un elemento del diccionario, por su clave seria una combinación entre get() + del\n",
        "\n",
        "rae = {\n",
        "    'casa' : 'pequeño hogar donde vive la gente',\n",
        "    'agua' : 'bebida que es necesario para la vida',\n",
        "    'televisor' : 'equipo electronico'\n",
        "}\n",
        "\n",
        "rae.pop('agua')\n"
      ],
      "metadata": {
        "id": "yfs0wo2B2heo",
        "colab": {
          "base_uri": "https://localhost:8080/",
          "height": 35
        },
        "outputId": "b35471a5-ec39-46b3-b38e-6a01295ca1ca"
      },
      "execution_count": 2,
      "outputs": [
        {
          "output_type": "execute_result",
          "data": {
            "text/plain": [
              "'bebida que es necesario para la vida'"
            ],
            "application/vnd.google.colaboratory.intrinsic+json": {
              "type": "string"
            }
          },
          "metadata": {},
          "execution_count": 2
        }
      ]
    },
    {
      "cell_type": "code",
      "source": [
        "# Borrado completo del diccionario\n",
        "\n",
        "raee = {\n",
        "    'casa' : 'pequeño hogar donde vive la gente',\n",
        "    'agua' : 'bebida que es necesario para la vida',\n",
        "    'televisor' : 'equipo electronico'\n",
        "}\n",
        "\n",
        "raee.clear()\n",
        "print( raee)\n"
      ],
      "metadata": {
        "colab": {
          "base_uri": "https://localhost:8080/"
        },
        "id": "8HlbLzdv37WS",
        "outputId": "9711e53b-11af-4710-ed07-5b278768bd48"
      },
      "execution_count": 4,
      "outputs": [
        {
          "output_type": "stream",
          "name": "stdout",
          "text": [
            "{}\n"
          ]
        }
      ]
    },
    {
      "cell_type": "code",
      "source": [
        "# Similar a como se trabaja con las listas = [], si hacemos un cambio en el diccionario se ve reflejado en todas las variables, esto deriva de su propiedad de ser mutable:\n",
        "# veamos un ejemplo con la función clear()\n",
        "\n",
        "raee2 = {\n",
        "    'casa' : 'pequeño hogar donde vive la gente',\n",
        "    'agua' : 'bebida que es necesario para la vida',\n",
        "    'televisor' : 'equipo electronico'\n",
        "}\n",
        "\n",
        "copy_raee2 = raee2\n",
        "copy_raee2['agua'] = 'liquido'\n",
        "\n",
        "print(copy_raee2)\n"
      ],
      "metadata": {
        "colab": {
          "base_uri": "https://localhost:8080/"
        },
        "id": "KEpJ5gac45hv",
        "outputId": "ab800959-f5ad-4817-fa7d-b281d59e7a08"
      },
      "execution_count": 8,
      "outputs": [
        {
          "output_type": "stream",
          "name": "stdout",
          "text": [
            "{'casa': 'pequeño hogar donde vive la gente', 'agua': 'liquido', 'televisor': 'equipo electronico'}\n"
          ]
        }
      ]
    },
    {
      "cell_type": "markdown",
      "source": [],
      "metadata": {
        "id": "q1D4BU8916ra"
      }
    }
  ]
}