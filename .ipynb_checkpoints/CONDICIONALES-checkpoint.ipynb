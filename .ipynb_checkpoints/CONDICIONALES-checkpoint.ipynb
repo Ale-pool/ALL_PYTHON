{
  "nbformat": 4,
  "nbformat_minor": 0,
  "metadata": {
    "colab": {
      "provenance": [],
      "authorship_tag": "ABX9TyO6TjTuRJjGD9WzWYPKNzdL",
      "include_colab_link": true
    },
    "kernelspec": {
      "name": "python3",
      "display_name": "Python 3"
    },
    "language_info": {
      "name": "python"
    }
  },
  "cells": [
    {
      "cell_type": "markdown",
      "metadata": {
        "id": "view-in-github",
        "colab_type": "text"
      },
      "source": [
        "<a href=\"https://colab.research.google.com/github/Ale-pool/ALL_PYTHON/blob/main/CONDICIONALES.ipynb\" target=\"_parent\"><img src=\"https://colab.research.google.com/assets/colab-badge.svg\" alt=\"Open In Colab\"/></a>"
      ]
    },
    {
      "cell_type": "markdown",
      "source": [
        " Condicional if (Si)\n",
        " Es la estructura básica de un condicional en Python. Se ejecuta solo si la condición es verdadera."
      ],
      "metadata": {
        "id": "nCGsaWtfFGWK"
      }
    },
    {
      "cell_type": "code",
      "execution_count": 5,
      "metadata": {
        "colab": {
          "base_uri": "https://localhost:8080/"
        },
        "id": "c_QQznkYFCaV",
        "outputId": "06c6fb14-0950-4888-f428-fe54065061c8"
      },
      "outputs": [
        {
          "output_type": "stream",
          "name": "stdout",
          "text": [
            "Eres mayor de edad\n"
          ]
        }
      ],
      "source": [
        "edad = 23\n",
        "if edad >= 18:\n",
        "  print(\"Eres mayor de edad\")\n",
        "\n",
        "# Explicación:\n",
        "# ✔ Si edad es 18 o más, se ejecuta el print().\n",
        "# ✖ Si edad es menor de 18, no se ejecuta nada."
      ]
    },
    {
      "cell_type": "markdown",
      "source": [
        "2. Condicional if - else (Si - Si no)\n",
        "- Permite ejecutar un bloque si la condición es verdadera y otro si es falsa."
      ],
      "metadata": {
        "id": "yKLCudfuFk0t"
      }
    },
    {
      "cell_type": "code",
      "source": [
        "metodopago = \"Efectivo\"\n",
        "\n",
        "if metodopago == \"Tarjeta\":\n",
        "  print(\"este metodo de pago es valido\")\n",
        "else:\n",
        "  print(\"este metodo de pago no es valido\")"
      ],
      "metadata": {
        "colab": {
          "base_uri": "https://localhost:8080/"
        },
        "id": "2wPiH7HIF1sr",
        "outputId": "1addf114-d73d-4447-93d0-f8abc2d099ee"
      },
      "execution_count": 7,
      "outputs": [
        {
          "output_type": "stream",
          "name": "stdout",
          "text": [
            "este metodo de pago no es valido\n"
          ]
        }
      ]
    },
    {
      "cell_type": "markdown",
      "source": [
        "3. Condicional if - elif - else (Si - Si no, pero si - Si no)\n",
        "\n",
        "Permite evaluar múltiples condiciones."
      ],
      "metadata": {
        "id": "6pUD44U6GQuM"
      }
    },
    {
      "cell_type": "code",
      "source": [
        "lista = [10, 20, 30, 40, 50]\n",
        "\n",
        "valor = 50\n",
        "\n",
        "if valor in lista and valor > 25 and valor < 45:\n",
        "  print(\"El valor\", valor, \"está en la lista, es mayor a 25 y menor a 45.\")\n",
        "elif valor in lista and valor < 25:\n",
        "  print(\"El valor\", valor, \"está en la lista y es menor a 25.\")\n",
        "elif valor not in lista:\n",
        "  print(\"El valor\", valor, \"no está en la lista.\")\n",
        "else:\n",
        "  print(\"El valor\", valor, \"está en la lista pero no cumple las otras condiciones.\")"
      ],
      "metadata": {
        "colab": {
          "base_uri": "https://localhost:8080/"
        },
        "id": "_LeV_r1_Gya6",
        "outputId": "2adb6709-2951-41e5-db1b-a09bb8238cf8"
      },
      "execution_count": 11,
      "outputs": [
        {
          "output_type": "stream",
          "name": "stdout",
          "text": [
            "El valor 50 está en la lista pero no cumple las otras condiciones.\n"
          ]
        }
      ]
    },
    {
      "cell_type": "markdown",
      "source": [
        "4. Condicionales con Operadores Lógicos.\n",
        "\n",
        "Puedes combinar condiciones usando:\n",
        "\n",
        "- and (y): Se cumple si ambas condiciones son verdaderas.\n",
        "- or (o): Se cumple si al menos una condición es verdadera.\n",
        "- not (no): Niega la condición."
      ],
      "metadata": {
        "id": "_7zhouxeHt85"
      }
    },
    {
      "cell_type": "code",
      "source": [
        "edad = 20\n",
        "tiene_dni = True\n",
        "\n",
        "if edad >= 18 and tiene_dni:\n",
        "    print(\"Puedes votar\")\n",
        "else:\n",
        "    print(\"No puedes votar\")\n"
      ],
      "metadata": {
        "colab": {
          "base_uri": "https://localhost:8080/"
        },
        "id": "ZIGAA2GIH2S1",
        "outputId": "3cf02415-c09a-4ed4-e85a-e6505d17e2b5"
      },
      "execution_count": 12,
      "outputs": [
        {
          "output_type": "stream",
          "name": "stdout",
          "text": [
            "Puedes votar\n"
          ]
        }
      ]
    },
    {
      "cell_type": "markdown",
      "source": [
        "5. Condicionales en una sola línea (if ternario)"
      ],
      "metadata": {
        "id": "ckV_MUYJH_4P"
      }
    },
    {
      "cell_type": "code",
      "source": [
        "edad = 17\n",
        "mensaje = \"Mayor de edad\" if edad >= 18 else \"Menor de edad\"\n",
        "print(mensaje)"
      ],
      "metadata": {
        "colab": {
          "base_uri": "https://localhost:8080/"
        },
        "id": "XlHOrHDgIA4L",
        "outputId": "a9052eab-b1e0-4848-cf4d-ae2a644da6bf"
      },
      "execution_count": 13,
      "outputs": [
        {
          "output_type": "stream",
          "name": "stdout",
          "text": [
            "Menor de edad\n"
          ]
        }
      ]
    },
    {
      "cell_type": "markdown",
      "source": [
        "6. Uso de pass en Condicionales\n",
        "Si no quieres ejecutar nada dentro de un if, usa pass."
      ],
      "metadata": {
        "id": "h1thc7EqIUGJ"
      }
    },
    {
      "cell_type": "code",
      "source": [
        "edad = 20\n",
        "\n",
        "if edad >= 18:\n",
        "    pass  # No hace nada\n",
        "else:\n",
        "    print(\"Eres menor de edad\")\n",
        "\n",
        "#EJEMPLO MAS COMPLETO\n",
        "\n",
        "nombre = \"alex\"\n",
        "edad = 20\n",
        "\n",
        "if nombre == \"Juan\" and edad > 18:\n",
        "    print(\"Hola\", nombre, \"eres mayor de edad.\")\n",
        "elif nombre == \"Juan\":\n",
        "    print(\"Hola\", nombre, \"eres menor de edad.\")\n",
        "else:\n",
        "    print(\"No te llamas Juan.\")\n"
      ],
      "metadata": {
        "colab": {
          "base_uri": "https://localhost:8080/"
        },
        "id": "JpiTn_1pIU2k",
        "outputId": "b06fd767-b323-45aa-fdfb-c5f0d3a689d4"
      },
      "execution_count": 18,
      "outputs": [
        {
          "output_type": "stream",
          "name": "stdout",
          "text": [
            "No te llamas Juan.\n"
          ]
        }
      ]
    }
  ]
}