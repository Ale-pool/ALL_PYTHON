{
  "nbformat": 4,
  "nbformat_minor": 0,
  "metadata": {
    "colab": {
      "provenance": [],
      "authorship_tag": "ABX9TyMjGPRtVmOM47FTa/1uXCmh",
      "include_colab_link": true
    },
    "kernelspec": {
      "name": "python3",
      "display_name": "Python 3"
    },
    "language_info": {
      "name": "python"
    }
  },
  "cells": [
    {
      "cell_type": "markdown",
      "metadata": {
        "id": "view-in-github",
        "colab_type": "text"
      },
      "source": [
        "<a href=\"https://colab.research.google.com/github/Ale-pool/ALL_PYTHON/blob/main/CURSO_MAESTRO_PY_4_ipynb.ipynb\" target=\"_parent\"><img src=\"https://colab.research.google.com/assets/colab-badge.svg\" alt=\"Open In Colab\"/></a>"
      ]
    },
    {
      "cell_type": "markdown",
      "source": [
        "\n",
        "\n",
        ">ESTE PARTE ES RELACIONADO AL DESARROLLO DEL CURSO, OPERADORES Y EXPRESIONES\n",
        "EN EL TEMARIO ES EL TEMA 02 QUE CORRESPONDE Al VIDEO # 42 DEL CURSO\n",
        "\n"
      ],
      "metadata": {
        "id": "8xtd2Z2nSVJx"
      }
    },
    {
      "cell_type": "code",
      "source": [
        "# Tipo logicos -- FALSE - TRUE\n",
        "a = 2\n",
        "b = 4\n",
        "c = a\n",
        "\n",
        "a == c\n",
        "print(c != a)\n",
        "a < b"
      ],
      "metadata": {
        "colab": {
          "base_uri": "https://localhost:8080/"
        },
        "id": "Tgyeo1xOSXIu",
        "outputId": "480ff7f3-099b-4f94-bbb0-15a413c84140"
      },
      "execution_count": null,
      "outputs": [
        {
          "output_type": "stream",
          "name": "stdout",
          "text": [
            "False\n"
          ]
        },
        {
          "output_type": "execute_result",
          "data": {
            "text/plain": [
              "True"
            ]
          },
          "metadata": {},
          "execution_count": 84
        }
      ]
    },
    {
      "cell_type": "code",
      "source": [
        "#  Y otros tipos, como cadenas, listas, el resultado de algunas funciones o los propios tipos lógicos\n",
        "####### 1 . ==\n",
        "\n",
        "a = 5\n",
        "b = 10\n",
        "c = 5 * 2\n",
        "print(a== b)\n",
        "print(b==c)\n",
        "print(a != c)\n",
        "print(b < c)\n",
        "print(a < b)\n",
        "print(b > a)\n",
        "print(a <= b)\n"
      ],
      "metadata": {
        "colab": {
          "base_uri": "https://localhost:8080/"
        },
        "id": "KbHdGVoeFFxj",
        "outputId": "8fc894ec-1a08-4636-ee1f-b9cda0acf3b0"
      },
      "execution_count": null,
      "outputs": [
        {
          "output_type": "stream",
          "name": "stdout",
          "text": [
            "False\n",
            "True\n",
            "True\n",
            "False\n",
            "True\n",
            "True\n",
            "True\n"
          ]
        }
      ]
    },
    {
      "cell_type": "code",
      "source": [
        "# operadores logicos\n",
        "# NOT\n",
        "# OR\n",
        "# AND\n",
        "\n",
        "a = 12\n",
        "b = 14\n",
        "c = a * b\n",
        "\n",
        "# if a == 12 or  b == 12:\n",
        "#   print(f\"El resultado del producto entre a y b es:\", c)\n",
        "# else:\n",
        "#   print(\"No es correcto\")\n",
        "\n",
        "if not a == 2:\n",
        "  print(\"Es correcto\")\n",
        "else:\n",
        "  print(\"No es correcto\")\n",
        "\n",
        "\n",
        "X = 10\n",
        "\n",
        "if not X <= 12:\n",
        "  print(\"Es menor a x\")\n",
        "else:\n",
        "  print(\"Es mayor a x\")\n",
        "\n",
        "\n",
        "print(not 0)       # True\n",
        "print(not 1)       # False\n",
        "print(not \"\")      # True\n",
        "print(not \"Hola\")  # False\n"
      ],
      "metadata": {
        "colab": {
          "base_uri": "https://localhost:8080/"
        },
        "id": "JG0UzUn3FXgL",
        "outputId": "0dbc9d38-206d-4115-df4d-140fb7b4d86c"
      },
      "execution_count": null,
      "outputs": [
        {
          "output_type": "stream",
          "name": "stdout",
          "text": [
            "Es correcto\n",
            "Es mayor a x\n",
            "True\n",
            "False\n",
            "True\n",
            "False\n"
          ]
        }
      ]
    },
    {
      "cell_type": "code",
      "source": [
        "# uso tipico en condicionales\n",
        "\n",
        "user_logged_in = False\n",
        "\n",
        "\n",
        "if not user_logged_in:\n",
        "    print(\"Usuario no ha iniciado sesión\")\n",
        "else:\n",
        "  print(\"El usuario esta logeado\")\n",
        "\n"
      ],
      "metadata": {
        "colab": {
          "base_uri": "https://localhost:8080/"
        },
        "id": "nYCweSWpHrtM",
        "outputId": "9c259dc6-93e6-4603-c59a-aa9909412810"
      },
      "execution_count": null,
      "outputs": [
        {
          "output_type": "stream",
          "name": "stdout",
          "text": [
            "Usuario no ha iniciado sesión\n"
          ]
        }
      ]
    },
    {
      "cell_type": "code",
      "source": [
        "def validar_login(usuario, contraseña):\n",
        "    # Verificamos si alguno de los campos está vacío\n",
        "    if not usuario or not contraseña:\n",
        "        print(\"Error: El usuario o la contraseña no pueden estar vacíos.\")\n",
        "        return False\n",
        "    else:\n",
        "        print(\"Inicio de sesión exitoso.\")\n",
        "        return True\n",
        "\n",
        "# Pruebas\n",
        "# validar_login(\"\", \"12345\")          # usuario vacío → mensaje de error\n",
        "# validar_login(\"admin\", \"\")          # contraseña vacía → mensaje de error\n",
        "validar_login(\"admin\", \"12345\")     # ambos válidos → inicio exitoso\n"
      ],
      "metadata": {
        "colab": {
          "base_uri": "https://localhost:8080/"
        },
        "id": "bDm1ukenJDoY",
        "outputId": "7e1e7221-5788-44dc-b862-7889481b5994"
      },
      "execution_count": null,
      "outputs": [
        {
          "output_type": "stream",
          "name": "stdout",
          "text": [
            "Inicio de sesión exitoso.\n"
          ]
        },
        {
          "output_type": "execute_result",
          "data": {
            "text/plain": [
              "True"
            ]
          },
          "metadata": {},
          "execution_count": 26
        }
      ]
    },
    {
      "cell_type": "code",
      "source": [
        "# REPASEMOS\n",
        "\n",
        "not True\n",
        "not False\n",
        "\n",
        "True and True\n",
        "True and False\n",
        "False or True\n"
      ],
      "metadata": {
        "colab": {
          "base_uri": "https://localhost:8080/"
        },
        "id": "Mne0_5xIMKQp",
        "outputId": "259f997d-03d5-4fc2-db48-104960a88856"
      },
      "execution_count": null,
      "outputs": [
        {
          "output_type": "execute_result",
          "data": {
            "text/plain": [
              "True"
            ]
          },
          "metadata": {},
          "execution_count": 32
        }
      ]
    },
    {
      "cell_type": "code",
      "source": [
        "# EXPRESIONES ANIDADAS\n",
        "\n",
        "# # Expresiones anidadas\n",
        "# Se pueden solucionar empleando las reglas de precedencia:\n",
        "# 1. Primero los paréntesis porque tienen prioridad\n",
        "# 2. Segundo, las expresiones aritméticas por sus propias reglas\n",
        "# 3. Tercero, las expresiones relacionales\n",
        "# 4. Cuarto, las expresiones lógicas\n",
        "\n",
        "a = 35\n",
        "b = 8\n",
        "\n",
        "a * b - 2**b >= 20 and not (a % b) != 0\n",
        "\n",
        "\" para que sea verdadero se tiene que cumplir\"\n",
        "a * b - 2**b >= -225187539034 and not (a % b) != 3\n"
      ],
      "metadata": {
        "colab": {
          "base_uri": "https://localhost:8080/"
        },
        "id": "OMStYSzHMsnC",
        "outputId": "775f7b92-e61f-45d6-9cb7-1cadd4615b30"
      },
      "execution_count": null,
      "outputs": [
        {
          "output_type": "execute_result",
          "data": {
            "text/plain": [
              "True"
            ]
          },
          "metadata": {},
          "execution_count": 66
        }
      ]
    },
    {
      "cell_type": "code",
      "source": [
        "# OPERADORES DE ASIGNACIÓN\n",
        "a = 0\n",
        "a += 5\n",
        "a\n"
      ],
      "metadata": {
        "colab": {
          "base_uri": "https://localhost:8080/"
        },
        "id": "gDio41zVNVIA",
        "outputId": "bbf17d18-8890-4849-8d4c-7da56c71c909"
      },
      "execution_count": null,
      "outputs": [
        {
          "output_type": "execute_result",
          "data": {
            "text/plain": [
              "5"
            ]
          },
          "metadata": {},
          "execution_count": 71
        }
      ]
    },
    {
      "cell_type": "code",
      "source": [
        "a -= 10\n",
        "a"
      ],
      "metadata": {
        "colab": {
          "base_uri": "https://localhost:8080/"
        },
        "id": "gweaBjg5QbaB",
        "outputId": "5d7f746d-a372-487d-f042-a1096f57eaaf"
      },
      "execution_count": null,
      "outputs": [
        {
          "output_type": "execute_result",
          "data": {
            "text/plain": [
              "-5"
            ]
          },
          "metadata": {},
          "execution_count": 72
        }
      ]
    },
    {
      "cell_type": "code",
      "source": [
        "a += 5\n",
        "a *=2\n",
        "a"
      ],
      "metadata": {
        "colab": {
          "base_uri": "https://localhost:8080/"
        },
        "id": "xnLfi_V4QpvG",
        "outputId": "691d210a-2f6f-4451-f87c-675b335cc10e"
      },
      "execution_count": null,
      "outputs": [
        {
          "output_type": "execute_result",
          "data": {
            "text/plain": [
              "10"
            ]
          },
          "metadata": {},
          "execution_count": 74
        }
      ]
    },
    {
      "cell_type": "code",
      "source": [
        "a /=2\n",
        "a"
      ],
      "metadata": {
        "colab": {
          "base_uri": "https://localhost:8080/"
        },
        "id": "8dSK-XIXQxaf",
        "outputId": "24708a90-a138-4145-a7bb-643d81cf8932"
      },
      "execution_count": null,
      "outputs": [
        {
          "output_type": "execute_result",
          "data": {
            "text/plain": [
              "5.0"
            ]
          },
          "metadata": {},
          "execution_count": 75
        }
      ]
    },
    {
      "cell_type": "code",
      "source": [
        "a %= 2 # modulo de asignacion\n",
        "a"
      ],
      "metadata": {
        "colab": {
          "base_uri": "https://localhost:8080/"
        },
        "id": "QwG2ung0Q0YI",
        "outputId": "4649ea5e-c02b-42b5-dc07-7525cc666977"
      },
      "execution_count": null,
      "outputs": [
        {
          "output_type": "execute_result",
          "data": {
            "text/plain": [
              "1.0"
            ]
          },
          "metadata": {},
          "execution_count": 76
        }
      ]
    },
    {
      "cell_type": "code",
      "source": [
        "a **= 3\n",
        "a"
      ],
      "metadata": {
        "colab": {
          "base_uri": "https://localhost:8080/"
        },
        "id": "UKmfEyZ4Q4cv",
        "outputId": "78662ed7-b03a-4fc5-f0ba-088c01166eaf"
      },
      "execution_count": null,
      "outputs": [
        {
          "output_type": "execute_result",
          "data": {
            "text/plain": [
              "1.0"
            ]
          },
          "metadata": {},
          "execution_count": 78
        }
      ]
    },
    {
      "cell_type": "code",
      "source": [
        "# REPASANDO LOS DIFERENTES EJEMPLOS\n",
        "n = 0  # se define la variable o contador empezando en 0\n",
        "\n",
        "while n < 10:    # el ciclo while mientras se cumpla la condicion estara ejecutandose\n",
        "  if(n % 2) == 0:   # condicional con una operación relacional y expresiones aritmeticas\n",
        "    print(n,\"es un numero par\")\n",
        "  else:\n",
        "    print(n,\"no es un numero par\")\n",
        "\n",
        "  n +=1    # expresión aritmética n = n + 1 equivalente a operación en asignación n+=1\n"
      ],
      "metadata": {
        "id": "DatDNDu1Q9hH",
        "colab": {
          "base_uri": "https://localhost:8080/"
        },
        "outputId": "19dbaa7a-0e04-435d-c950-3bb61c6ca78e"
      },
      "execution_count": null,
      "outputs": [
        {
          "output_type": "stream",
          "name": "stdout",
          "text": [
            "0 es un numero par\n",
            "1 no es un numero par\n",
            "2 es un numero par\n",
            "3 no es un numero par\n",
            "4 es un numero par\n",
            "5 no es un numero par\n",
            "6 es un numero par\n",
            "7 no es un numero par\n",
            "8 es un numero par\n",
            "9 no es un numero par\n"
          ]
        }
      ]
    },
    {
      "cell_type": "markdown",
      "source": [
        " ***EJERCIOS OPTATIVOS ENUNCIADOS *****"
      ],
      "metadata": {
        "id": "Uy-cYONOb7U5"
      }
    },
    {
      "cell_type": "code",
      "source": [
        "# 1) Realiza un programa que lea 2 números por teclado y determine los siguientes aspectos (es suficiene con mostrar True o False):\n",
        "# Si los dos números son iguales\n",
        "# Si los dos números son diferentes\n",
        "# Si el primero es mayor que el segundo\n",
        "# Si el segundo es mayor o igual que el primero\n",
        "\n",
        "num_1 = int(input(\"Digite el primer numero : \"))\n",
        "num_2 = int(input(\"Digite el segundo numero : \"))\n",
        "\n",
        "# if num_1 == num_2:\n",
        "#   print(\"Los dos resultados son iguales\")\n",
        "# elif num_1 > num_2:\n",
        "#   print(\"El primer numero es mayor\")\n",
        "# elif num_2 >= num_1:\n",
        "#   print(\"el segundo numero es el mayor o igual\")\n",
        "\n",
        "print(num_1 == num_2)\n",
        "print(num_1 != num_2)\n",
        "print(num_1 > num_2)\n",
        "print(num_2 >= num_1)\n"
      ],
      "metadata": {
        "colab": {
          "base_uri": "https://localhost:8080/"
        },
        "id": "TmE_QUUucBuf",
        "outputId": "b357b0b2-69cb-462e-e8ee-09660a6404fc"
      },
      "execution_count": 95,
      "outputs": [
        {
          "output_type": "stream",
          "name": "stdout",
          "text": [
            "Digite el primer numero : 34\n",
            "Digite el segundo numero : 62\n",
            "False\n",
            "True\n",
            "False\n",
            "True\n"
          ]
        }
      ]
    },
    {
      "cell_type": "code",
      "source": [
        "# 2) Utilizando operadores lógicos, determina si una cadena de texto introducida por el usuario\n",
        "# tiene una longitud mayor o igual que 3 y a su vez es menor que 10 (es suficiene con mostrar True o False):\n",
        "\n",
        "cadena = str(input(\"Introduce la cadena : \"))\n",
        "\n",
        "expresion= len(cadena) >= 3 and len(cadena) < 10\n",
        "print(expresion)\n"
      ],
      "metadata": {
        "colab": {
          "base_uri": "https://localhost:8080/"
        },
        "id": "tFp8oB6lfmop",
        "outputId": "3ba4e9c4-b8b5-4343-ba41-2aae9d896a64"
      },
      "execution_count": 99,
      "outputs": [
        {
          "output_type": "stream",
          "name": "stdout",
          "text": [
            "Introduce la cadena : Buenas\n",
            "True\n"
          ]
        }
      ]
    },
    {
      "cell_type": "markdown",
      "source": [
        "3) Realiza un programa que cumpla el siguiente algoritmo utilizando siempre que sea posible operadores en asignación:\n",
        "\n",
        "Guarda en una variable numero_magico el valor 12345679 (sin el 8)\n",
        "Lee por pantalla otro numero_usuario, especifica que sea entre 1 y 9 (asegúrate que es un número)\n",
        "Multiplica el numero_usuario por 9 en sí mismo\n",
        "Multiplica el numero_magico por el numero_usuario en sí mismo\n",
        "Finalmente muestra el valor final del numero_magico por pantalla"
      ],
      "metadata": {
        "id": "lDzLUxmfhMhi"
      }
    },
    {
      "cell_type": "code",
      "source": [
        "numero_magico = 12345679\n",
        "num_usuario = int(input(\"Digite un numero cualquiera entre el 1 y 9 sin escoger el 8 : \"))\n",
        "\n",
        "num_usuario *= 9\n",
        "numero_magico *=num_usuario\n",
        "numero_magico"
      ],
      "metadata": {
        "colab": {
          "base_uri": "https://localhost:8080/"
        },
        "id": "E0S0OkyRhNGR",
        "outputId": "095a048c-5ce7-4ed3-c141-c1d590a430bd"
      },
      "execution_count": 102,
      "outputs": [
        {
          "name": "stdout",
          "output_type": "stream",
          "text": [
            "Digite un numero cualquiera entre el 1 y 9 sin escoger el 8 : 3\n"
          ]
        },
        {
          "output_type": "execute_result",
          "data": {
            "text/plain": [
              "333333333"
            ]
          },
          "metadata": {},
          "execution_count": 102
        }
      ]
    }
  ]
}