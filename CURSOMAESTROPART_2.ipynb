{
  "nbformat": 4,
  "nbformat_minor": 0,
  "metadata": {
    "colab": {
      "provenance": [],
      "authorship_tag": "ABX9TyOO45nA40WCfcdyGQIOusU7",
      "include_colab_link": true
    },
    "kernelspec": {
      "name": "python3",
      "display_name": "Python 3"
    },
    "language_info": {
      "name": "python"
    }
  },
  "cells": [
    {
      "cell_type": "markdown",
      "metadata": {
        "id": "view-in-github",
        "colab_type": "text"
      },
      "source": [
        "<a href=\"https://colab.research.google.com/github/Ale-pool/ALL_PYTHON/blob/main/CURSOMAESTROPART_2.ipynb\" target=\"_parent\"><img src=\"https://colab.research.google.com/assets/colab-badge.svg\" alt=\"Open In Colab\"/></a>"
      ]
    },
    {
      "cell_type": "code",
      "source": [
        "# retomemos conceptos importantes de scling\n",
        "# slicing en cadenas:\n",
        "palabra = \"JavaScript\"\n",
        "#indices   0-1-2-3-4-5-6-7-8-9\n",
        "palabra[:]\n",
        "palabra[:3] # me muestra desde el indice 0 sin contarme el 3\n",
        "palabra[4:10] # me muestra desde el indice 4 contandole hasta el 10, anquela variable no tiene indice 10 no hay problema con el slicing\n",
        "palabra[0:5]\n",
        "palabra[0:5] + palabra[5:10] # conctenación\n",
        "\n",
        "# Una propiedad de las cadenas es que no se pueden modificar. Si intentamos reasignar un carácter, no nos dejará:\n",
        "\n",
        "# palabra[0] = \"C\"\n",
        "\n",
        "# pero con el slicing esto es posible:\n",
        "palabra = \"C\" + palabra[1:]\n",
        "palabra\n",
        "len(palabra) # me muestra la longitud de la cadena\n",
        "\n",
        "valores = [1.21,12,23,12,1,45]\n",
        "valores[0]\n",
        "valores[4:]\n",
        "valores[3:6]\n",
        "\n"
      ],
      "metadata": {
        "colab": {
          "base_uri": "https://localhost:8080/"
        },
        "id": "6US9LowTigUm",
        "outputId": "2733ffb0-d7ec-4a19-90a5-b740fd32adfd"
      },
      "execution_count": 10,
      "outputs": [
        {
          "output_type": "execute_result",
          "data": {
            "text/plain": [
              "[12, 1, 45]"
            ]
          },
          "metadata": {},
          "execution_count": 10
        }
      ]
    },
    {
      "cell_type": "code",
      "source": [
        "num = [1,2,3,4,5,6,7,8,9,10]\n",
        "base = [10,20,30,40,50]\n",
        "lista_general = num +  base\n",
        "lista_general + [60,70,80,90]\n",
        "\n",
        "\n",
        "###  las listas son mutables\n",
        "\n",
        "pares = [0,2,4,5,8,10]\n",
        "impares = [1,3,5,7,9]\n",
        "numeros = [pares,impares]\n",
        "numeros[1:]\n",
        "\n",
        "pares.append(13)  # formas de agregar elementos a una lista\n",
        "pares\n",
        "pares[-1] = 12\n",
        "pares\n",
        "\n",
        "# pero si quiero agregar un elemento en una posicion especifica insert()\n",
        "\n",
        "pares.insert(3,6)\n",
        "pares\n",
        "pares.insert(0,1)\n",
        "pares\n",
        "\n",
        "# eliminar elementos de una lista remove()\n",
        "cuentas = [14,5,35,42,85,41,14]\n",
        "eliminado = cuentas.remove(14)\n",
        "cuentas.remove(14)\n",
        "\n",
        "# print(f\"el valor elimiando: {cuentas}\")\n",
        "\n",
        "# pop() elimina y devuelve el elemento en una posición especifica\n",
        "cuentas.pop()\n",
        "cuentas\n",
        "cuentas.pop()\n",
        "cuentas\n",
        "#############\n",
        "\n",
        "len(cuentas)\n",
        "cuentas.pop(0)\n",
        "cuentas\n",
        "\n",
        "del cuentas[0]\n",
        "cuentas"
      ],
      "metadata": {
        "colab": {
          "base_uri": "https://localhost:8080/"
        },
        "id": "12Yu47VtGhqe",
        "outputId": "66bed285-0f59-4ced-e806-08e4866e346a"
      },
      "execution_count": 43,
      "outputs": [
        {
          "output_type": "execute_result",
          "data": {
            "text/plain": [
              "[42]"
            ]
          },
          "metadata": {},
          "execution_count": 43
        }
      ]
    },
    {
      "cell_type": "code",
      "source": [
        "## ordenar listas sort(), modifica la lisra original\n",
        "\n",
        "mi_lista = [1, 2, 3, 4, 5,7,6,9,8,10]\n",
        "mi_lista.sort()\n",
        "mi_lista\n",
        "mi_lista.reverse()\n",
        "mi_lista\n"
      ],
      "metadata": {
        "colab": {
          "base_uri": "https://localhost:8080/"
        },
        "id": "VeJawZbnMTV-",
        "outputId": "43862426-2e9f-459e-e554-d50076370679"
      },
      "execution_count": 48,
      "outputs": [
        {
          "output_type": "execute_result",
          "data": {
            "text/plain": [
              "[10, 9, 8, 7, 6, 5, 4, 3, 2, 1]"
            ]
          },
          "metadata": {},
          "execution_count": 48
        }
      ]
    },
    {
      "cell_type": "code",
      "execution_count": null,
      "metadata": {
        "colab": {
          "base_uri": "https://localhost:8080/"
        },
        "id": "PCfi7TvTD4lc",
        "outputId": "c21646b5-d11e-4347-882a-fd32ada75425"
      },
      "outputs": [
        {
          "output_type": "stream",
          "name": "stdout",
          "text": [
            "Ramón García,7.6,Historia\n",
            "Ramón García\n",
            "7.6\n",
            "Historia\n",
            "Ramón García ha sacado un 7.6 en Historia\n"
          ]
        }
      ],
      "source": [
        "# continuando con la parte anterior\n",
        "# miremos este ejercicio\n",
        "# tenemos una cadena volteada, debemos organizarla\n",
        "\n",
        "cadena_corrupta = \"airotsiH,6.7,aícraG nómaR\"\n",
        "\n",
        "cadena_volteada = cadena_corrupta[::-1]\n",
        "cadena_volteada\n",
        "\n",
        "# extrae el nombre y el apellido del alumno y almacenalo en una variable llamda nombre\n",
        "# Estrae la nota y almacenalo en una variable llamada nota\n",
        "# extrae la materia y almacenalo en una variable llamada materia\n",
        "#Genera exactamente la siguiente estructura formateando las anteriores variables en\n",
        "#una cadena llamada cadena_formateada donde nombre, nota y materia hacen referencia a las variables extraídas:\n",
        "# {nombre} ha sacado un {nota} en {materia}\n",
        "# Ejemplo:\n",
        "# Ramón García ha sacado un 8.1 en Matemáticas\n",
        "print(cadena_volteada)\n",
        "nombre = cadena_volteada[0:5] + \" \"+ cadena_volteada[6:12]\n",
        "print(nombre)\n",
        "nota  = cadena_volteada[13:16]\n",
        "print(nota)\n",
        "\n",
        "materia = cadena_volteada[17:25]\n",
        "print(materia)\n",
        "\n",
        "cadena_formateada = f\"{nombre} ha sacado un {nota} en {materia}\"\n",
        "print(cadena_formateada)"
      ]
    },
    {
      "cell_type": "code",
      "source": [
        "# ACTIVIDAD DE LISTAS\n",
        "\n",
        "\"\"\"\n",
        "Dadas dos listas lista1 y lista2 debes realizar diferentes tareas por el orden indicado:\n",
        "Añade a la lista1 el número 1234 y luego el texto Hola.\n",
        "Añade a la lista2 el texto Adiós y luego el número 1234.\n",
        "Genera una lista3 con todos los elementos de la lista1 excepto el último.\n",
        "Genera una lista4 con todos los elementos de la lista2 excepto el primero y el último.\n",
        "Genera una lista5 con los elementos de la lista4 más la lista3.\n",
        "Los nombres de las variables deben ser los que se especifican o el ejercicio no validará. \"\"\"\n",
        "\n",
        "\n",
        "\n",
        "\n",
        "lista1 = [1, 12, 123]\n",
        "lista2 = [\"Bye\", \"Ciao\", \"Agur\", \"Adieu\"]\n",
        "\n",
        "# completa el ejercicio\n",
        "lista1.append(1234)\n",
        "lista1.append('Hola')\n",
        "lista1\n",
        "\n",
        "lista2.append('adios')\n",
        "lista2.append(1234)\n",
        "lista3 = lista1[:-1]\n",
        "lista3\n",
        "lista4 = lista2[1:-1]\n",
        "lista4\n",
        "lista5 = lista4 + lista3\n",
        "lista5"
      ],
      "metadata": {
        "colab": {
          "base_uri": "https://localhost:8080/"
        },
        "id": "o0Emjeg96wx6",
        "outputId": "9d702e24-a35b-4e97-f356-82a2da3dc801"
      },
      "execution_count": null,
      "outputs": [
        {
          "output_type": "execute_result",
          "data": {
            "text/plain": [
              "['Ciao', 'Agur', 'Adieu', 'adios', 1, 12, 123, 1234]"
            ]
          },
          "metadata": {},
          "execution_count": 11
        }
      ]
    },
    {
      "cell_type": "code",
      "source": [
        "Listam =  [1,2,4,55,234,23]\n",
        "Listam[1:]"
      ],
      "metadata": {
        "colab": {
          "base_uri": "https://localhost:8080/"
        },
        "id": "ZP408N6lYRPq",
        "outputId": "02e9cb72-0b4e-4a7d-d2db-2d03e0a4b943"
      },
      "execution_count": null,
      "outputs": [
        {
          "output_type": "execute_result",
          "data": {
            "text/plain": [
              "[2, 4, 55, 234, 23]"
            ]
          },
          "metadata": {},
          "execution_count": 4
        }
      ]
    },
    {
      "cell_type": "code",
      "source": [
        "cadena = \"mi nombre es alexander\"\n",
        "cadena[3:9]\n",
        "# cade = \"alex\"\n",
        "# cade[0:4]\n",
        "# cade[-1]\n"
      ],
      "metadata": {
        "colab": {
          "base_uri": "https://localhost:8080/",
          "height": 36
        },
        "id": "ySLA8O_igMYx",
        "outputId": "43c96824-812d-4c0f-8d40-e9e927b110d1"
      },
      "execution_count": 52,
      "outputs": [
        {
          "output_type": "execute_result",
          "data": {
            "text/plain": [
              "'nombre'"
            ],
            "application/vnd.google.colaboratory.intrinsic+json": {
              "type": "string"
            }
          },
          "metadata": {},
          "execution_count": 52
        }
      ]
    },
    {
      "cell_type": "code",
      "source": [
        "# Busqueda en listas index(): Devuelve el índice de la primera ocurrencia de un valor.\n",
        "lista1 = [1,2,2,4,5,6,7,7]\n",
        "lista1.index(7)\n",
        "lista1[7] = 8\n",
        "lista1\n",
        "\n",
        "# para verificar si un elemento esta en lista podemos hacerlo de este modo:\n",
        "\n",
        "if 8 in lista1:\n",
        "    print(\"el 8 esta en la lista\")\n",
        "else:\n",
        "    print(\"el 8 no esta en la lista\")\n"
      ],
      "metadata": {
        "colab": {
          "base_uri": "https://localhost:8080/"
        },
        "id": "sLF3MEb3URT9",
        "outputId": "134ebdae-72c2-4eec-dace-aef48b2022c8"
      },
      "execution_count": 57,
      "outputs": [
        {
          "output_type": "stream",
          "name": "stdout",
          "text": [
            "el 8 esta en la lista\n"
          ]
        }
      ]
    },
    {
      "cell_type": "code",
      "source": [
        "# repeticiones de una lista\n",
        "\n",
        "nombres = [\"alex\", \"Juliana\", \"juan\", \"camila\"]\n",
        "duplicado = nombres * 2\n",
        "duplicado\n",
        "\n",
        "# lsitas por comprehension\n",
        "cuadrados = [x**2 for x in range(100)]  # Crea una lista de cuadrados\n",
        "cuadrados\n",
        "\n",
        "# copia de una lista\n",
        "nuevos_val = valores.copy()\n",
        "nuevos_val.insert(0,121)\n",
        "nuevos_val"
      ],
      "metadata": {
        "colab": {
          "base_uri": "https://localhost:8080/"
        },
        "id": "XEHZHb64Y8X1",
        "outputId": "0eeccbbf-90f6-4177-dfba-54ce3d34f858"
      },
      "execution_count": 68,
      "outputs": [
        {
          "output_type": "execute_result",
          "data": {
            "text/plain": [
              "[121, 1.21, 12, 23, 12, 1, 45]"
            ]
          },
          "metadata": {},
          "execution_count": 68
        }
      ]
    },
    {
      "cell_type": "code",
      "source": [
        "# Limpiar todos los elementos de una lista\n",
        "\n",
        "valores.clear()\n",
        "valores\n",
        "\n",
        "\n",
        "# contar elementos -- cuantas veces aparecio ese elemento en la lista\n",
        "num.append(1)\n",
        "num.append(1)\n",
        "num.append(1)\n",
        "num.count(1)\n",
        "num"
      ],
      "metadata": {
        "id": "zsl3s_PAaH3I"
      },
      "execution_count": null,
      "outputs": []
    },
    {
      "cell_type": "code",
      "source": [],
      "metadata": {
        "id": "CWuInso6a36o"
      },
      "execution_count": null,
      "outputs": []
    }
  ]
}