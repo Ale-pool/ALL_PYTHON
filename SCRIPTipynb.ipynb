{
  "nbformat": 4,
  "nbformat_minor": 0,
  "metadata": {
    "colab": {
      "provenance": [],
      "authorship_tag": "ABX9TyNMUMXsDx3KD4wjYSHxueYo",
      "include_colab_link": true
    },
    "kernelspec": {
      "name": "python3",
      "display_name": "Python 3"
    },
    "language_info": {
      "name": "python"
    }
  },
  "cells": [
    {
      "cell_type": "markdown",
      "metadata": {
        "id": "view-in-github",
        "colab_type": "text"
      },
      "source": [
        "<a href=\"https://colab.research.google.com/github/Ale-pool/ALL_PYTHON/blob/main/SCRIPTipynb.ipynb\" target=\"_parent\"><img src=\"https://colab.research.google.com/assets/colab-badge.svg\" alt=\"Open In Colab\"/></a>"
      ]
    },
    {
      "cell_type": "markdown",
      "source": [
        "\n",
        "Declaración de variables:\n",
        "\n",
        "Como se debe declarar una variable en py\n",
        "que es un argumento y que es un parametro\n",
        "\n",
        "Parametro: son variables que se definen en la función\n",
        "Argumento: Son los valores reales que se le pasan a la función\n"
      ],
      "metadata": {
        "id": "coepqRyOvy9t"
      }
    },
    {
      "cell_type": "code",
      "execution_count": null,
      "metadata": {
        "colab": {
          "base_uri": "https://localhost:8080/"
        },
        "id": "XlF-oOq0LKQT",
        "outputId": "2146a737-619c-48d8-cc19-7d133784995e"
      },
      "outputs": [
        {
          "output_type": "stream",
          "name": "stdout",
          "text": [
            "el estudiante Alex va muy bien\n"
          ]
        }
      ],
      "source": [
        "import random\n",
        "\n",
        "# se define una función comienzacurso - tiene una lista que tiene diferentes datos en relación a un comentario \"f\"\n",
        "# se utiliza la libreria random para seleccionar una de las 3 repsuestas aleatorias.\n",
        "def comiezacurso(nombre): # es un parametro\n",
        "  respuestas = [\n",
        "  f\"el estudiante {nombre} va muy bien\",\n",
        "  f\"el estudiante {nombre} va regular\",\n",
        "  f\"el estudiante {nombre} va muy mal\"\n",
        "  ]\n",
        "\n",
        "  return random.choice(respuestas) # se retorna lo que tenemos en la función y randoriza\n",
        "\n",
        "nombre = \"Alex\" # argumento\n",
        "print(comiezacurso(nombre))\n",
        "\n"
      ]
    },
    {
      "cell_type": "markdown",
      "source": [
        "Operaciones aritmeticas: --> operadores aritmeticos\n",
        "\n",
        "Se define como se puede preguntar algun valor en consola, con el input\n",
        "se multiplica dos numeros y al resultado de esos dos numeros se le saca la raiz cuadrado utilizando la libreria math"
      ],
      "metadata": {
        "id": "pa_5SZLC2aLy"
      }
    },
    {
      "cell_type": "code",
      "source": [
        "import math\n",
        "\n",
        "num1 = int(input(\"Ingrese el primer numero: \"))\n",
        "num2 = int(input(\"Ingrese el segundo numero: \"))\n",
        "\n",
        "resultado = num1 * num2\n",
        "\n",
        "raiz = math.sqrt(resultado)\n",
        "\n",
        "print(f\"El resultado de la multiplicacion es: {resultado}\")\n",
        "print(f\"La raiz cuadrada del resultado es: {raiz}\")\n",
        "\n",
        "answers = [resultado, raiz]\n",
        "\n",
        "type(raiz)"
      ],
      "metadata": {
        "colab": {
          "base_uri": "https://localhost:8080/"
        },
        "id": "skCTsbBBXwvd",
        "outputId": "029adeca-7d7c-4b8c-c85e-137f4443adf5"
      },
      "execution_count": null,
      "outputs": [
        {
          "output_type": "stream",
          "name": "stdout",
          "text": [
            "Ingrese el primer numero: 8\n",
            "Ingrese el segundo numero: 5\n",
            "El resultado de la multiplicacion es: 40\n",
            "La raiz cuadrada del resultado es: 6.324555320336759\n"
          ]
        },
        {
          "output_type": "execute_result",
          "data": {
            "text/plain": [
              "float"
            ]
          },
          "metadata": {},
          "execution_count": 14
        }
      ]
    },
    {
      "cell_type": "markdown",
      "source": [
        "ESTO ES DEFINICÓN DE VARIABLES POR MEDIO DEL CURSO DE ANALISIS DE DATOS.\n",
        "lINK DEL CURSO EN CUESTIÓN: https://www.udemy.com/course/curso-de-r-y-python-para-data-science-y-analisis-de-datos/?couponCode=KEEPLEARNING\n",
        "\n",
        "CONVERSIÓN:\n",
        "\n",
        "bool() - convierte en dato a tipo booleano\n",
        "int()  - convierte el dato a tipo entero\n",
        "float()  - convierte el dato a tipo decimal\n",
        "#####\n",
        "\n",
        ">>>>> bool(1)\n",
        "True\n",
        ">>>> bool(0)\n",
        "False\n",
        "\n",
        "##########\n",
        "\n",
        ">>>> int(TRUE)\n",
        "1\n",
        ">>> int(FALSE)\n",
        "0"
      ],
      "metadata": {
        "id": "nBV1KN644ERi"
      }
    },
    {
      "cell_type": "code",
      "source": [
        "star_year = int(2022)\n",
        "print(star_year)\n",
        "type(star_year)\n"
      ],
      "metadata": {
        "colab": {
          "base_uri": "https://localhost:8080/"
        },
        "id": "VW0Ctd4jZfKa",
        "outputId": "369c1b21-8df3-4613-e198-f6e2299d09f2"
      },
      "execution_count": null,
      "outputs": [
        {
          "output_type": "stream",
          "name": "stdout",
          "text": [
            "2022\n"
          ]
        },
        {
          "output_type": "execute_result",
          "data": {
            "text/plain": [
              "int"
            ]
          },
          "metadata": {},
          "execution_count": 17
        }
      ]
    },
    {
      "cell_type": "code",
      "source": [
        "# Round - aproxima el numero fraccionario al valor mas cercano\n",
        "import math\n",
        "\n",
        "a = math.pi\n",
        "\n",
        "redondear = round(a,4)\n",
        "print(redondear)\n"
      ],
      "metadata": {
        "colab": {
          "base_uri": "https://localhost:8080/"
        },
        "id": "Q17R16Im4bUw",
        "outputId": "68316dc0-4fe0-4b48-c900-ac809bdd4ba4"
      },
      "execution_count": 10,
      "outputs": [
        {
          "output_type": "stream",
          "name": "stdout",
          "text": [
            "3.1416\n"
          ]
        }
      ]
    },
    {
      "cell_type": "code",
      "source": [
        "import math\n",
        "from random import randint\n",
        "\n",
        "#numeros aleatorios para aplicar una función trigonometrica\n",
        "\n",
        "x = randint(1,10)\n",
        "print('Un numero ramdom cualquiera entre 1 y 10:', x)\n",
        "\n"
      ],
      "metadata": {
        "colab": {
          "base_uri": "https://localhost:8080/"
        },
        "id": "dh53ov8j5pvE",
        "outputId": "7a2aaed2-e1e4-4bc2-88f7-30a5c92b4cb2"
      },
      "execution_count": 13,
      "outputs": [
        {
          "output_type": "stream",
          "name": "stdout",
          "text": [
            "Un numero ramdom cualquiera entre 1 y 10: 3\n"
          ]
        }
      ]
    }
  ]
}