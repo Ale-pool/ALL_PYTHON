{
  "nbformat": 4,
  "nbformat_minor": 0,
  "metadata": {
    "colab": {
      "provenance": [],
      "authorship_tag": "ABX9TyM9qVXi+5vZ57xn07ll5WPH",
      "include_colab_link": true
    },
    "kernelspec": {
      "name": "python3",
      "display_name": "Python 3"
    },
    "language_info": {
      "name": "python"
    }
  },
  "cells": [
    {
      "cell_type": "markdown",
      "metadata": {
        "id": "view-in-github",
        "colab_type": "text"
      },
      "source": [
        "<a href=\"https://colab.research.google.com/github/Ale-pool/ALL_PYTHON/blob/main/logica4_py.ipynb\" target=\"_parent\"><img src=\"https://colab.research.google.com/assets/colab-badge.svg\" alt=\"Open In Colab\"/></a>"
      ]
    },
    {
      "cell_type": "markdown",
      "source": [
        "OPERADORES DE COMPARACIÓN:\n",
        "\n",
        "- Igualdad: ==\n",
        "- desigualda: !=\n",
        "- menor que: <\n",
        "- menor o igual que: <=\n",
        "- mayor: >\n",
        "- mayor igual que: >=\n"
      ],
      "metadata": {
        "id": "pYPNoVG7h1Ub"
      }
    },
    {
      "cell_type": "code",
      "source": [
        "valor = 8\n",
        "\n",
        "### condiciones basicas #####\n",
        "print(valor == 8)\n",
        "print(valor != 8)\n",
        "print( valor >= 8)\n",
        "print(valor <= 8)\n",
        "print(valor < 8)\n",
        "\n",
        "#### condiciones mas complejas ####\n",
        "\n",
        "print (valor >= 7 and valor<= 10)\n",
        "print( valor < 8 and valor <= 8)\n",
        "print( valor < 8 or valor > 8)\n",
        "\n",
        "not(valor !=8 )"
      ],
      "metadata": {
        "colab": {
          "base_uri": "https://localhost:8080/"
        },
        "id": "doN89Zxz5kpN",
        "outputId": "d48b9498-a695-4fe7-dbb7-22622840ca4f"
      },
      "execution_count": 22,
      "outputs": [
        {
          "output_type": "stream",
          "name": "stdout",
          "text": [
            "True\n",
            "False\n",
            "True\n",
            "True\n",
            "False\n",
            "True\n",
            "False\n",
            "False\n"
          ]
        },
        {
          "output_type": "execute_result",
          "data": {
            "text/plain": [
              "True"
            ]
          },
          "metadata": {},
          "execution_count": 22
        }
      ]
    },
    {
      "cell_type": "code",
      "source": [
        "# cuando queremos preguntar la veracidad de una variable booleana en una condición:\n",
        "\n",
        "is_cold = True\n",
        "\n",
        "if is_cold == True:\n",
        "  print(\"es congelado\")\n",
        "else:\n",
        "  print(\"no es congelado\")\n",
        "\n",
        "### otra prueba ###\n",
        "\n",
        "if is_cold:\n",
        "  print(\"es verdad\")\n",
        "else :\n",
        "  print(\"no es verdad\")\n",
        "\n",
        "## tomando un valor falso booleano ####\n",
        "\n",
        "is_hard = False\n",
        "\n",
        "if not is_hard:   # haga lo que hace el not es cambia el sentido del booleano equivale a if_hard == false\n",
        "  print(\"es duro\")\n",
        "else:\n",
        "  print(\"es facil\")\n",
        "\n"
      ],
      "metadata": {
        "colab": {
          "base_uri": "https://localhost:8080/"
        },
        "id": "F02KesCczEUC",
        "outputId": "b1461cfc-8973-489d-8b27-6d84bda4b0c0"
      },
      "execution_count": 33,
      "outputs": [
        {
          "output_type": "stream",
          "name": "stdout",
          "text": [
            "es congelado\n",
            "es verdad\n",
            "es duro\n"
          ]
        }
      ]
    },
    {
      "cell_type": "markdown",
      "source": [
        "- CICLO WHILE Y DO WHILE:\n",
        "\n",
        "- Los ciclos while y do while son estructuras de control que permiten ejecutar un bloque de código repetidamente mientras se cumpla una condición.\n",
        "\n",
        "El while evalúa una condición antes de ejecutar el bloque de código. Si la condición es True, el código dentro del bucle se ejecuta; si es False, el bucle termina\n",
        "####################################################\n",
        "\n",
        "🔹 Ciclo do while en Python\n",
        "Python no tiene un ciclo do while nativo, pero se puede simular con un while usando break.\n",
        "\n",
        "En un do while, el bloque de código se ejecuta al menos una vez, incluso si la condición es False."
      ],
      "metadata": {
        "id": "I9hCJIglqEP4"
      }
    },
    {
      "cell_type": "code",
      "source": [
        "inicio = 1\n",
        "\n",
        "while inicio < 5:\n",
        "  print(f\"iteración\",{inicio})\n",
        "  inicio+=1\n",
        "\n",
        "\n",
        "###############\n",
        "\n",
        "\n"
      ],
      "metadata": {
        "collapsed": true,
        "id": "1oatKQyDqqKD"
      },
      "execution_count": null,
      "outputs": []
    },
    {
      "cell_type": "code",
      "source": [
        "num = 40 # el simbolo \"%\" me permite saber si un valor es divisible por un valor\n",
        "while num >= 1:\n",
        "  if num % 3 == 0:\n",
        "    print(num)\n",
        "    break;   # el break; permite finalizar el bucle una vez se encuentra el objectivo\n",
        "  num-=1\n",
        "\n",
        "valor = 39 % 3\n",
        "print(valor)\n",
        "\n",
        "# valor = num % 3\n",
        "# print(valor)"
      ],
      "metadata": {
        "colab": {
          "base_uri": "https://localhost:8080/"
        },
        "id": "aDOyQBYMs6K0",
        "outputId": "3e952083-da40-445c-865f-75286f531b8e"
      },
      "execution_count": 58,
      "outputs": [
        {
          "output_type": "stream",
          "name": "stdout",
          "text": [
            "39\n",
            "0\n"
          ]
        }
      ]
    },
    {
      "cell_type": "code",
      "source": [
        "# si no encontramos el valor de una condicion podemos hacer que el bucle finalise utilizando la sentencia else\n",
        "\n",
        "valor = 8\n",
        "\n",
        "while valor >= 1:\n",
        "  if valor % 9 == 0:\n",
        "    print(valor)\n",
        "    break;\n",
        "  valor-= 1\n",
        "else:\n",
        "    print(\"no se encuentra ningun multiplo\")\n",
        "\n",
        "\n",
        "#### continuar un bucle #####\n",
        "# si nos interesa saltar adelante hacia la siguiente repetición de un bucle, en vez de romperlo, podemos usar la sentencia \"continue\"\n",
        "# para descartar eñ resto del codigo del bucle y saltar a la siguiente interacción\n",
        "\n",
        "num2= 21\n",
        "\n",
        "while num2 >= 1:\n",
        "  num2-=1\n",
        "  if num2 % 3 !=0:  # solo imprime los que no son multiplos de 3\n",
        "    continue\n",
        "  print(num2, end=\",\")\n"
      ],
      "metadata": {
        "colab": {
          "base_uri": "https://localhost:8080/"
        },
        "id": "gTLIyBQSvbxl",
        "outputId": "6685bfc7-9a42-41ab-f203-fcc960368217"
      },
      "execution_count": 68,
      "outputs": [
        {
          "output_type": "stream",
          "name": "stdout",
          "text": [
            "no se encuentra ningun multiplo\n",
            "18,15,12,9,6,3,0,"
          ]
        }
      ]
    },
    {
      "cell_type": "markdown",
      "source": [
        "- condicional FOR:\n",
        "\n",
        "- El ciclo for en Python se usa para iterar sobre una secuencia (listas, tuplas, cadenas de texto, rangos, etc.). Es una de las estructuras de control más utilizadas en Python."
      ],
      "metadata": {
        "id": "cPhoQscx1VQv"
      }
    },
    {
      "cell_type": "code",
      "source": [
        "lista = ['maria', 'carlos', 'julian', 'david', 'jorge', 'alex']\n",
        "\n",
        "for i in lista:\n",
        "  if i == 'david':\n",
        "    print(i)\n",
        "    break;  # si quiero usar solo el valor de maria necesito el break;\n",
        "\n",
        "\n",
        "# frutas = [\"manzana\", \"plátano\", \"cereza\"]\n",
        "# for fruta in frutas:\n",
        "#     print(fruta)"
      ],
      "metadata": {
        "colab": {
          "base_uri": "https://localhost:8080/"
        },
        "id": "6CGD68l91f_p",
        "outputId": "24fa84e2-c5c4-4239-f072-5e3b2efdaf6d"
      },
      "execution_count": 97,
      "outputs": [
        {
          "output_type": "stream",
          "name": "stdout",
          "text": [
            "david\n"
          ]
        }
      ]
    },
    {
      "cell_type": "code",
      "source": [
        "# usando range para generar una secuencia de numeros\n",
        "for i in range(1, 7):  # range(inicio, fin) (El fin no se incluye)\n",
        "    print(i)\n",
        "\n",
        "\n",
        "\n",
        "for letra in \"Python\":\n",
        "    print(letra)"
      ],
      "metadata": {
        "colab": {
          "base_uri": "https://localhost:8080/"
        },
        "id": "QIz4GUid2Xja",
        "outputId": "01f3b971-a7e3-4f58-fe96-263691ac6304"
      },
      "execution_count": 86,
      "outputs": [
        {
          "output_type": "stream",
          "name": "stdout",
          "text": [
            "1\n",
            "2\n",
            "3\n",
            "4\n",
            "5\n",
            "6\n",
            "P\n",
            "y\n",
            "t\n",
            "h\n",
            "o\n",
            "n\n"
          ]
        }
      ]
    },
    {
      "cell_type": "code",
      "source": [
        "#for con break y continue\n",
        "#Podemos controlar el flujo del bucle usando:\n",
        "#break: Sale del bucle antes de que termine.\n",
        "#continue: Salta una iteración y sigue con la siguiente.\n",
        "\n",
        "for num in range(1, 10):\n",
        "    if num == 5:\n",
        "        break  # Detiene el bucle cuando num es 5\n",
        "    print(num)\n",
        "\n",
        "\n",
        "print('## continue ##')\n",
        "\n",
        "for num in range(1, 6):\n",
        "    if num == 3:\n",
        "        continue  # Salta el número 3 y sigue con el siguiente\n",
        "    print(num)\n"
      ],
      "metadata": {
        "colab": {
          "base_uri": "https://localhost:8080/"
        },
        "id": "8sHHFLLI2xFO",
        "outputId": "dbe33169-c6f8-46fa-fffe-357745546932"
      },
      "execution_count": 88,
      "outputs": [
        {
          "output_type": "stream",
          "name": "stdout",
          "text": [
            "1\n",
            "2\n",
            "3\n",
            "4\n",
            "## continue ##\n",
            "1\n",
            "2\n",
            "4\n",
            "5\n"
          ]
        }
      ]
    },
    {
      "cell_type": "code",
      "source": [
        "#  Enumerar elementos con enumerate()\n",
        "\n",
        "colores = [\"rojo\", \"verde\", \"azul\"]\n",
        "for indice, color in enumerate(colores):\n",
        "    print(f\"Índice {indice}: {color}\")\n"
      ],
      "metadata": {
        "colab": {
          "base_uri": "https://localhost:8080/"
        },
        "id": "sdka6q5u3Z-2",
        "outputId": "024bbb86-85e6-4ba5-9ebd-8d5cec94cffe"
      },
      "execution_count": 89,
      "outputs": [
        {
          "output_type": "stream",
          "name": "stdout",
          "text": [
            "Índice 0: rojo\n",
            "Índice 1: verde\n",
            "Índice 2: azul\n"
          ]
        }
      ]
    },
    {
      "cell_type": "code",
      "source": [
        "word = \"VICTORY\"\n",
        "\n",
        "for letter in word:\n",
        "  print(letter)"
      ],
      "metadata": {
        "colab": {
          "base_uri": "https://localhost:8080/"
        },
        "id": "fJ1q9kax56a3",
        "outputId": "327624fe-44b4-40a7-aea0-2279cae4ad22"
      },
      "execution_count": 91,
      "outputs": [
        {
          "output_type": "stream",
          "name": "stdout",
          "text": [
            "V\n",
            "I\n",
            "C\n",
            "T\n",
            "O\n",
            "R\n",
            "Y\n"
          ]
        }
      ]
    }
  ]
}