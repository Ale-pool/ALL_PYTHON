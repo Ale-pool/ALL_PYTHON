{
  "nbformat": 4,
  "nbformat_minor": 0,
  "metadata": {
    "colab": {
      "provenance": [],
      "authorship_tag": "ABX9TyNwXpW/oN7Mk8hCUQikI86A",
      "include_colab_link": true
    },
    "kernelspec": {
      "name": "python3",
      "display_name": "Python 3"
    },
    "language_info": {
      "name": "python"
    }
  },
  "cells": [
    {
      "cell_type": "markdown",
      "metadata": {
        "id": "view-in-github",
        "colab_type": "text"
      },
      "source": [
        "<a href=\"https://colab.research.google.com/github/Ale-pool/ALL_PYTHON/blob/main/Operadores.ipynb\" target=\"_parent\"><img src=\"https://colab.research.google.com/assets/colab-badge.svg\" alt=\"Open In Colab\"/></a>"
      ]
    },
    {
      "cell_type": "markdown",
      "source": [
        "Supongamos que tenemos 100 artículos en el stock de nuestra tienda y que durante la semana pasada hemos podido vender 25 de ellos.\n",
        "\n",
        "Preguntas de esta tarea\n",
        "Asigna el valor 100 a la variable total_items.\n",
        "\n",
        "Asigna el valor 25 a la variable sold_items.\n",
        "\n",
        "Actualiza la variable total_items restándole los artículos que hemos vendido, y usando la asignación tradicional.\n",
        "\n",
        "Muestra el valor actualizado de total_items.\n",
        "\n",
        "Vuelve a crear de cero total_items y sold_items con sus valores originales (100 y 25).\n",
        "\n",
        "Actualiza la variable total_items restándole los artículos que hemos vendido, pero usando la asignación aumentada.\n",
        "\n",
        "Muestra el valor actualizado de total_items."
      ],
      "metadata": {
        "id": "5-y8cRoo80cD"
      }
    },
    {
      "cell_type": "code",
      "execution_count": null,
      "metadata": {
        "colab": {
          "base_uri": "https://localhost:8080/"
        },
        "id": "1-36O0dr8xQi",
        "outputId": "bfb8643e-ef22-4598-a359-7d972ed3215b"
      },
      "outputs": [
        {
          "output_type": "stream",
          "name": "stdout",
          "text": [
            "75\n"
          ]
        }
      ],
      "source": [
        "total_items = 100\n",
        "sold_items = 25\n",
        "\n",
        "# total_items = total_items - sold_items\n",
        "total_items -=  25\n",
        "print(total_items)\n",
        "\n",
        "\n"
      ]
    },
    {
      "cell_type": "markdown",
      "source": [
        "Cadenas de texto:\n",
        "\n",
        "comillas simples dentro de comillas simples:\n",
        "\n",
        "-- 'los llamados 'stings' son secuencias de caracteres'\n",
        "\n",
        "# conversión\n",
        "\n",
        "Podemos crear strings convirtiendo otros tipos de variable mediante la función str\n",
        "\n",
        "--> str(true)\n",
        "'true'\n",
        "--> str(10)\n",
        "'10'"
      ],
      "metadata": {
        "id": "OXK3oUoi_EXw"
      }
    },
    {
      "cell_type": "code",
      "source": [
        "# prompt: crea dos variables tipo string que contenga comillas simples dentro de comillas simples\n",
        "\n",
        "string1 = \"los llamados \\'strings\\' son secuencias de caracteres'\"\n",
        "string2 = \"Esto es un ejemplo de \\'comillas simples\\' dentro de otra \\n'comillas simples\\'\"\n",
        "print(string1)\n",
        "string2"
      ],
      "metadata": {
        "colab": {
          "base_uri": "https://localhost:8080/",
          "height": 53
        },
        "id": "l2F5oFus_DVw",
        "outputId": "8c7c4299-e279-481b-f8a0-580b8a1d0c59"
      },
      "execution_count": null,
      "outputs": [
        {
          "output_type": "stream",
          "name": "stdout",
          "text": [
            "los llamados 'strings' son secuencias de caracteres'\n"
          ]
        },
        {
          "output_type": "execute_result",
          "data": {
            "text/plain": [
              "\"Esto es un ejemplo de 'comillas simples' dentro de otra \\n'comillas simples'\""
            ],
            "application/vnd.google.colaboratory.intrinsic+json": {
              "type": "string"
            }
          },
          "metadata": {},
          "execution_count": 13
        }
      ]
    },
    {
      "cell_type": "code",
      "source": [
        "# salto de linea\n",
        "mensaje1 = \"Primeralinea\\nsegundalinea\"\n",
        "mensaje = \"Hola\\nMundo\"\n",
        "print(mensaje1)"
      ],
      "metadata": {
        "colab": {
          "base_uri": "https://localhost:8080/"
        },
        "id": "Gpi6-K8MDskW",
        "outputId": "25ceb6ce-ff41-45f9-c5b0-368c7c4b128a"
      },
      "execution_count": null,
      "outputs": [
        {
          "output_type": "stream",
          "name": "stdout",
          "text": [
            "Primeralinea\n",
            "segundalinea\n"
          ]
        }
      ]
    },
    {
      "cell_type": "code",
      "source": [
        "from typing import MutableSequence\n",
        "msg = \"sabes tu me gustas mucho,\"\n",
        "msg2 = \"Porque eres interesante\"\n",
        "\n",
        "print(msg, msg2) # con este primer print concateno los diferentes declaración o resultados de una variable\n",
        "print(msg, msg2, sep= '-') # separa las dos variables\n",
        "print(msg, msg2, end = \"!!\")"
      ],
      "metadata": {
        "colab": {
          "base_uri": "https://localhost:8080/"
        },
        "id": "8onWoIolEi6E",
        "outputId": "b3a5a885-146c-486c-c52a-690e0d69b1ea"
      },
      "execution_count": null,
      "outputs": [
        {
          "output_type": "stream",
          "name": "stdout",
          "text": [
            "sabes tu me gustas mucho, Porque eres interesante\n",
            "sabes tu me gustas mucho,-Porque eres interesante\n",
            "sabes tu me gustas mucho, Porque eres interesante!!"
          ]
        }
      ]
    },
    {
      "cell_type": "code",
      "source": [
        "# Interación con el usuario\n",
        "# Solicitar la entrada de datos por teclado con la función input:\n",
        "\n",
        "name = input(str(\"Introdusca su nombre: \"))\n",
        "edad = int(input(\"Introduzca su edad: \")) #\n",
        "\n",
        "nombreedad = \"la persona con el nombre: \" + name + \" su edad es2: \" + str(edad)\n",
        "print(nombreedad)\n",
        "type(edad)\n"
      ],
      "metadata": {
        "colab": {
          "base_uri": "https://localhost:8080/"
        },
        "id": "7h1Ts6f5F1F8",
        "outputId": "b35cd6fd-03b9-46b4-c43d-80087ce9392b"
      },
      "execution_count": null,
      "outputs": [
        {
          "output_type": "stream",
          "name": "stdout",
          "text": [
            "Introdusca su nombre: juan\n",
            "Introduzca su edad: 28\n",
            "la persona con el nombre: juan su edad es2: 28\n"
          ]
        },
        {
          "output_type": "execute_result",
          "data": {
            "text/plain": [
              "int"
            ]
          },
          "metadata": {},
          "execution_count": 40
        }
      ]
    },
    {
      "cell_type": "code",
      "source": [
        "# combinación de strings\n",
        "# se pueden conbinar dos o mas strings usando el operador + :\n",
        "\n",
        "materia1 = \"Español\"\n",
        "materia2 = \"Ingles\"\n",
        "\n",
        "materias = materia1 + \" e \" + materia2\n",
        "print(materias)"
      ],
      "metadata": {
        "colab": {
          "base_uri": "https://localhost:8080/"
        },
        "id": "5uJd8GUdJ9pS",
        "outputId": "9f2e2012-55c2-459a-b16b-2af239fadde5"
      },
      "execution_count": null,
      "outputs": [
        {
          "output_type": "stream",
          "name": "stdout",
          "text": [
            "Español e Ingles\n"
          ]
        }
      ]
    },
    {
      "cell_type": "code",
      "source": [
        "# CADENAS DE TEXTO 2\n",
        "# Como ya sabemos podemos combinar 2 o mas cadenas usando el operador \"+\"\n",
        "# repetir cadenas\n",
        "\n",
        "cadena = \"hola\"\n",
        "\n",
        "saludo = cadena * 3\n",
        "print(saludo)"
      ],
      "metadata": {
        "colab": {
          "base_uri": "https://localhost:8080/"
        },
        "id": "x55pTYdGnNF_",
        "outputId": "b984e060-471f-4eb9-f907-80cb4ae52464"
      },
      "execution_count": 1,
      "outputs": [
        {
          "output_type": "stream",
          "name": "stdout",
          "text": [
            "holaholahola\n"
          ]
        }
      ]
    },
    {
      "cell_type": "markdown",
      "source": [
        "![image.png](data:image/png;base64,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)"
      ],
      "metadata": {
        "id": "D6FOHCCio1AQ"
      }
    },
    {
      "cell_type": "code",
      "source": [
        "# indexación en los strings\n",
        "# los strings estan indexadas y cada caracter tiene su propia posición, para obtener un unico caracter dentro de un string hay que especificar un indice dentro de corchetes.\n",
        "nombre = \"PYTHON\"\n",
        "cadena2  = \"yo quiero comer papas con huevo\"\n",
        "\n",
        "cadena2[:]\n",
        "# para saber cuantos caracteres tiene nuesta cadena es:\n",
        "# cadena = len(cadena2)  #mediante esta función conocemos la longitud de una cadena\n",
        "\n",
        "print(nombre[4])\n",
        "print(nombre[-4])"
      ],
      "metadata": {
        "colab": {
          "base_uri": "https://localhost:8080/"
        },
        "id": "DjV0dThunwNO",
        "outputId": "ae8a110a-0139-45c8-b1c2-55fef7dfb884"
      },
      "execution_count": 15,
      "outputs": [
        {
          "output_type": "stream",
          "name": "stdout",
          "text": [
            "O\n",
            "T\n"
          ]
        }
      ]
    },
    {
      "cell_type": "markdown",
      "source": [
        "PERTENENCIA DE UN ELEMENTO:\n",
        "\n",
        "Si queremos comprobar si una determinada subcadena se encuentra en una cadena de texto utilizamos el operador \"in\" para ello, se trata de una expresión que tiene como resultado un valor <>boleano<>, verdadero o falso\n",
        "\n",
        "- dividir una cadena\n",
        "- limpiar una cadena\n",
        "- busquedas\n",
        "- contabilizar\n",
        "- remplazar elementos\n"
      ],
      "metadata": {
        "id": "rBpKli0DtEdp"
      }
    },
    {
      "cell_type": "code",
      "source": [
        "cadena = \"yo quiero comer papas con huevo\"\n",
        "print(\"papas\" in cadena)\n",
        "\n",
        "# como se divide una cadena\n",
        "# con la función split()\n",
        "\n",
        "cadena = \"yo quiero comer papas con huevo\"\n",
        "print(cadena.split())\n",
        "\n",
        "# Limpiar cadenas\n",
        "# la funcion strip() -- se utiliza para eliminar caracteres de principio y final de una cadena\n",
        "# lstrip() -- y rstrip() son para hacer la limpieza por la izquierda(comienzo) y por la derecha( final)\n",
        "caneda2 = \"ayer estaba comiendo arroz\"\n",
        "print(caneda2.strip())\n",
        "\n",
        "\n",
        "\n",
        "# Busquedas\n",
        "\"comprobar si una cadena de texto empieza o termina por alguna subcadena lyrics.startswidth o si termina lyrics.endwidth()\"\n",
        "\n",
        "# Encontrar la primera ocurrencia de alguna subcadena:\n",
        "\n",
        "cadena = \"yo quiero comer papas con huevo\"\n",
        "print(cadena.find(\"papas\"))\n",
        "\n",
        "# contabilizar el numero de veces que aparece una cadena\n",
        "\n",
        "cadena = \"Buenas tardes\"\n",
        "print(cadena.count(\"a\"))\n",
        "\n",
        "# Remplazar cadenas\n",
        "answer = \"Yo si te amo tu si lo sabes\"\n",
        "cambio = answer.replace(\"si\",\"NO\",1) # para que solo me remplace un valor le pongo el 1 para que una vez encuentre en primer caracter a remplazar lo remplace\n",
        "print(cambio)\n",
        "\n",
        "\n",
        "\n"
      ],
      "metadata": {
        "colab": {
          "base_uri": "https://localhost:8080/"
        },
        "id": "m1GJtV_wpMFl",
        "outputId": "0d63fc4d-d0ba-4c3b-a8fb-eace3d362eca"
      },
      "execution_count": 28,
      "outputs": [
        {
          "output_type": "stream",
          "name": "stdout",
          "text": [
            "True\n",
            "['yo', 'quiero', 'comer', 'papas', 'con', 'huevo']\n",
            "ayer estaba comiendo arroz\n",
            "16\n",
            "2\n",
            "Yo NO te amo tu NO lo sabes\n"
          ]
        }
      ]
    },
    {
      "cell_type": "code",
      "source": [
        "# MAYUSCULAS Y MINUSCULAS.\n",
        "\n",
        "cadena = \"mi mama es HERMOSA\"\n",
        "print(cadena)\n",
        "\n",
        "print(cadena.capitalize()) # lo que hace es que al inicio de la cadena ponerlo en mayuscula y lo demas lo pone en minuscula\n",
        "print(cadena.title())  # lo que hace es que al inicio de cada cadena lo pone en mayuscula\n",
        "print(cadena.upper())  # esto convierte toda la cadena en mayuscula\n",
        "print(cadena.lower())  # esto convierte toda la cadena en minuscula\n",
        "print(cadena.swapcase()) # va a intercambiar lo que esta en minuscula lo pone en mayuscula y asi en mayuscula"
      ],
      "metadata": {
        "colab": {
          "base_uri": "https://localhost:8080/"
        },
        "id": "5O47HsiJ6fQL",
        "outputId": "0ebf0adc-e45b-4aa2-8216-19dbf00f3461"
      },
      "execution_count": 35,
      "outputs": [
        {
          "output_type": "stream",
          "name": "stdout",
          "text": [
            "mi mama es HERMOSA\n",
            "Mi mama es hermosa\n",
            "Mi Mama Es Hermosa\n",
            "MI MAMA ES HERMOSA\n",
            "mi mama es hermosa\n",
            "MI MAMA ES hermosa\n"
          ]
        }
      ]
    },
    {
      "cell_type": "code",
      "source": [
        "#IDENTIFICADOR DE CARACTERES\n",
        "\n",
        "codigo = \"ADNNDUA\" # comprueba si todos los caracteres son letras\n",
        "print(codigo.isalpha(), \"letras\")\n",
        "\n",
        "ASI = \"13234234234\"\n",
        "print(ASI.isdigit(), \"numeros\") # comprueba si todos los caracteres son numeros\n",
        "print(ASI.isnumeric()) # lo mismo que la funcion isdigit\n",
        "\n",
        "# detectar si todos los simbolos son letras o numeros\n",
        "password1 = \"ADJDDK1313\"\n",
        "password2 = \"ADJDJ - 234\"\n",
        "print(password1.isalnum(), \"letras y numeros\")\n",
        "print(password2.isalnum(), \"letras y numeros\")\n",
        "\n",
        "# todos los caracteres son mayusculas\n",
        "\n",
        "valor = \"PESO\"\n",
        "print(valor.isupper())\n",
        "\n",
        "# todos los caracteres son minusculas\n",
        "valor2 = \"peso\"\n",
        "print(valor2.islower())"
      ],
      "metadata": {
        "colab": {
          "base_uri": "https://localhost:8080/"
        },
        "id": "pJfb_2-F83JF",
        "outputId": "4f6385b2-3692-422c-db7a-5f1bc9e9f055"
      },
      "execution_count": 48,
      "outputs": [
        {
          "output_type": "stream",
          "name": "stdout",
          "text": [
            "True letras\n",
            "True numeros\n",
            "True\n",
            "True letras y numeros\n",
            "False letras y numeros\n",
            "True\n",
            "True\n"
          ]
        }
      ]
    }
  ]
}