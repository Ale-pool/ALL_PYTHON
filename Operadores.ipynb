{
  "nbformat": 4,
  "nbformat_minor": 0,
  "metadata": {
    "colab": {
      "provenance": [],
      "authorship_tag": "ABX9TyNS8KX+WZywAvIUDsU+yvJm",
      "include_colab_link": true
    },
    "kernelspec": {
      "name": "python3",
      "display_name": "Python 3"
    },
    "language_info": {
      "name": "python"
    }
  },
  "cells": [
    {
      "cell_type": "markdown",
      "metadata": {
        "id": "view-in-github",
        "colab_type": "text"
      },
      "source": [
        "<a href=\"https://colab.research.google.com/github/Ale-pool/ALL_PYTHON/blob/main/Operadores.ipynb\" target=\"_parent\"><img src=\"https://colab.research.google.com/assets/colab-badge.svg\" alt=\"Open In Colab\"/></a>"
      ]
    },
    {
      "cell_type": "markdown",
      "source": [
        "Supongamos que tenemos 100 artículos en el stock de nuestra tienda y que durante la semana pasada hemos podido vender 25 de ellos.\n",
        "\n",
        "Preguntas de esta tarea\n",
        "Asigna el valor 100 a la variable total_items.\n",
        "\n",
        "Asigna el valor 25 a la variable sold_items.\n",
        "\n",
        "Actualiza la variable total_items restándole los artículos que hemos vendido, y usando la asignación tradicional.\n",
        "\n",
        "Muestra el valor actualizado de total_items.\n",
        "\n",
        "Vuelve a crear de cero total_items y sold_items con sus valores originales (100 y 25).\n",
        "\n",
        "Actualiza la variable total_items restándole los artículos que hemos vendido, pero usando la asignación aumentada.\n",
        "\n",
        "Muestra el valor actualizado de total_items."
      ],
      "metadata": {
        "id": "5-y8cRoo80cD"
      }
    },
    {
      "cell_type": "code",
      "execution_count": 9,
      "metadata": {
        "colab": {
          "base_uri": "https://localhost:8080/"
        },
        "id": "1-36O0dr8xQi",
        "outputId": "bfb8643e-ef22-4598-a359-7d972ed3215b"
      },
      "outputs": [
        {
          "output_type": "stream",
          "name": "stdout",
          "text": [
            "75\n"
          ]
        }
      ],
      "source": [
        "total_items = 100\n",
        "sold_items = 25\n",
        "\n",
        "# total_items = total_items - sold_items\n",
        "total_items -=  25\n",
        "print(total_items)\n",
        "\n",
        "\n"
      ]
    },
    {
      "cell_type": "markdown",
      "source": [
        "Cadenas de texto:\n",
        "\n",
        "comillas simples dentro de comillas simples:\n",
        "\n",
        "-- 'los llamados 'stings' son secuencias de caracteres'\n",
        "\n",
        "# conversión\n",
        "\n",
        "Podemos crear strings convirtiendo otros tipos de variable mediante la función str\n",
        "\n",
        "--> str(true)\n",
        "'true'\n",
        "--> str(10)\n",
        "'10'"
      ],
      "metadata": {
        "id": "OXK3oUoi_EXw"
      }
    },
    {
      "cell_type": "code",
      "source": [
        "# prompt: crea dos variables tipo string que contenga comillas simples dentro de comillas simples\n",
        "\n",
        "string1 = \"los llamados \\'strings\\' son secuencias de caracteres'\"\n",
        "string2 = \"Esto es un ejemplo de \\'comillas simples\\' dentro de otra \\n'comillas simples\\'\"\n",
        "print(string1)\n",
        "string2"
      ],
      "metadata": {
        "colab": {
          "base_uri": "https://localhost:8080/",
          "height": 53
        },
        "id": "l2F5oFus_DVw",
        "outputId": "8c7c4299-e279-481b-f8a0-580b8a1d0c59"
      },
      "execution_count": 13,
      "outputs": [
        {
          "output_type": "stream",
          "name": "stdout",
          "text": [
            "los llamados 'strings' son secuencias de caracteres'\n"
          ]
        },
        {
          "output_type": "execute_result",
          "data": {
            "text/plain": [
              "\"Esto es un ejemplo de 'comillas simples' dentro de otra \\n'comillas simples'\""
            ],
            "application/vnd.google.colaboratory.intrinsic+json": {
              "type": "string"
            }
          },
          "metadata": {},
          "execution_count": 13
        }
      ]
    },
    {
      "cell_type": "code",
      "source": [
        "# salto de linea\n",
        "mensaje1 = \"Primeralinea\\nsegundalinea\"\n",
        "mensaje = \"Hola\\nMundo\"\n",
        "print(mensaje1)"
      ],
      "metadata": {
        "colab": {
          "base_uri": "https://localhost:8080/"
        },
        "id": "Gpi6-K8MDskW",
        "outputId": "25ceb6ce-ff41-45f9-c5b0-368c7c4b128a"
      },
      "execution_count": 16,
      "outputs": [
        {
          "output_type": "stream",
          "name": "stdout",
          "text": [
            "Primeralinea\n",
            "segundalinea\n"
          ]
        }
      ]
    },
    {
      "cell_type": "code",
      "source": [
        "from typing import MutableSequence\n",
        "msg = \"sabes tu me gustas mucho,\"\n",
        "msg2 = \"Porque eres interesante\"\n",
        "\n",
        "print(msg, msg2) # con este primer print concateno los diferentes declaración o resultados de una variable\n",
        "print(msg, msg2, sep= '-') # separa las dos variables\n",
        "print(msg, msg2, end = \"!!\")"
      ],
      "metadata": {
        "colab": {
          "base_uri": "https://localhost:8080/"
        },
        "id": "8onWoIolEi6E",
        "outputId": "b3a5a885-146c-486c-c52a-690e0d69b1ea"
      },
      "execution_count": 24,
      "outputs": [
        {
          "output_type": "stream",
          "name": "stdout",
          "text": [
            "sabes tu me gustas mucho, Porque eres interesante\n",
            "sabes tu me gustas mucho,-Porque eres interesante\n",
            "sabes tu me gustas mucho, Porque eres interesante!!"
          ]
        }
      ]
    },
    {
      "cell_type": "code",
      "source": [
        "# Interación con el usuario\n",
        "# Solicitar la entrada de datos por teclado con la función input:\n",
        "\n",
        "name = input(str(\"Introdusca su nombre: \"))\n",
        "edad = int(input(\"Introduzca su edad: \"))\n",
        "\n",
        "nombreedad = \"la persona con el nombre: \" + name + \" su edad es2: \" + str(edad)\n",
        "print(nombreedad)\n",
        "type(edad)\n"
      ],
      "metadata": {
        "colab": {
          "base_uri": "https://localhost:8080/"
        },
        "id": "7h1Ts6f5F1F8",
        "outputId": "b35cd6fd-03b9-46b4-c43d-80087ce9392b"
      },
      "execution_count": 40,
      "outputs": [
        {
          "output_type": "stream",
          "name": "stdout",
          "text": [
            "Introdusca su nombre: juan\n",
            "Introduzca su edad: 28\n",
            "la persona con el nombre: juan su edad es2: 28\n"
          ]
        },
        {
          "output_type": "execute_result",
          "data": {
            "text/plain": [
              "int"
            ]
          },
          "metadata": {},
          "execution_count": 40
        }
      ]
    },
    {
      "cell_type": "code",
      "source": [
        "# combinación de strings\n",
        "# se pueden conbinar dos o mas strings usando el operador + :\n",
        "\n",
        "materia1 = \"Español\"\n",
        "materia2 = \"Ingles\"\n",
        "\n",
        "materias = materia1 + \" e \" + materia2\n",
        "print(materias)"
      ],
      "metadata": {
        "colab": {
          "base_uri": "https://localhost:8080/"
        },
        "id": "5uJd8GUdJ9pS",
        "outputId": "9f2e2012-55c2-459a-b16b-2af239fadde5"
      },
      "execution_count": 44,
      "outputs": [
        {
          "output_type": "stream",
          "name": "stdout",
          "text": [
            "Español e Ingles\n"
          ]
        }
      ]
    }
  ]
}